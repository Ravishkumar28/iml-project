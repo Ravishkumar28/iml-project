{
  "nbformat": 4,
  "nbformat_minor": 0,
  "metadata": {
    "colab": {
      "provenance": [],
      "gpuType": "T4"
    },
    "kernelspec": {
      "name": "python3",
      "display_name": "Python 3"
    },
    "language_info": {
      "name": "python"
    },
    "accelerator": "GPU"
  },
  "cells": [
    {
      "cell_type": "code",
      "execution_count": null,
      "metadata": {
        "colab": {
          "base_uri": "https://localhost:8080/"
        },
        "id": "fRhPczVrxWEx",
        "outputId": "2fff540b-c0a9-41e2-b55c-542101bce737",
        "collapsed": true
      },
      "outputs": [
        {
          "output_type": "stream",
          "name": "stderr",
          "text": [
            "/usr/local/lib/python3.10/dist-packages/transformers/tokenization_utils_base.py:1601: FutureWarning: `clean_up_tokenization_spaces` was not set. It will be set to `True` by default. This behavior will be depracted in transformers v4.45, and will be then set to `False` by default. For more details check this issue: https://github.com/huggingface/transformers/issues/31884\n",
            "  warnings.warn(\n",
            "100%|██████████| 1000/1000 [00:00<00:00, 1737.39it/s]\n",
            "100%|██████████| 200/200 [00:00<00:00, 1309.89it/s]\n",
            "/usr/local/lib/python3.10/dist-packages/torchvision/models/_utils.py:208: UserWarning: The parameter 'pretrained' is deprecated since 0.13 and may be removed in the future, please use 'weights' instead.\n",
            "  warnings.warn(\n",
            "/usr/local/lib/python3.10/dist-packages/torchvision/models/_utils.py:223: UserWarning: Arguments other than a weight enum or `None` for 'weights' are deprecated since 0.13 and may be removed in the future. The current behavior is equivalent to passing `weights=ResNet50_Weights.IMAGENET1K_V1`. You can also use `weights=ResNet50_Weights.DEFAULT` to get the most up-to-date weights.\n",
            "  warnings.warn(msg)\n",
            "Training: 100%|██████████| 32/32 [00:14<00:00,  2.14it/s]\n",
            "Validating: 100%|██████████| 7/7 [00:01<00:00,  5.33it/s]\n"
          ]
        },
        {
          "output_type": "stream",
          "name": "stdout",
          "text": [
            "Epoch 1:\n",
            "Train Loss: 0.5306, Train Acc: 79.10%\n",
            "Test Loss: 0.5273, Test Acc: 78.50%\n"
          ]
        },
        {
          "output_type": "stream",
          "name": "stderr",
          "text": [
            "Training: 100%|██████████| 32/32 [00:14<00:00,  2.14it/s]\n",
            "Validating: 100%|██████████| 7/7 [00:01<00:00,  6.59it/s]\n"
          ]
        },
        {
          "output_type": "stream",
          "name": "stdout",
          "text": [
            "Epoch 2:\n",
            "Train Loss: 0.5144, Train Acc: 79.50%\n",
            "Test Loss: 0.5198, Test Acc: 78.50%\n"
          ]
        },
        {
          "output_type": "stream",
          "name": "stderr",
          "text": [
            "Training: 100%|██████████| 32/32 [00:14<00:00,  2.21it/s]\n",
            "Validating: 100%|██████████| 7/7 [00:01<00:00,  5.77it/s]\n"
          ]
        },
        {
          "output_type": "stream",
          "name": "stdout",
          "text": [
            "Epoch 3:\n",
            "Train Loss: 0.5061, Train Acc: 79.50%\n",
            "Test Loss: 0.5290, Test Acc: 78.50%\n"
          ]
        },
        {
          "output_type": "stream",
          "name": "stderr",
          "text": [
            "Training: 100%|██████████| 32/32 [00:14<00:00,  2.20it/s]\n",
            "Validating: 100%|██████████| 7/7 [00:01<00:00,  3.87it/s]\n"
          ]
        },
        {
          "output_type": "stream",
          "name": "stdout",
          "text": [
            "Epoch 4:\n",
            "Train Loss: 0.4788, Train Acc: 79.50%\n",
            "Test Loss: 0.6474, Test Acc: 78.50%\n"
          ]
        },
        {
          "output_type": "stream",
          "name": "stderr",
          "text": [
            "Training: 100%|██████████| 32/32 [00:15<00:00,  2.10it/s]\n",
            "Validating: 100%|██████████| 7/7 [00:01<00:00,  5.50it/s]\n"
          ]
        },
        {
          "output_type": "stream",
          "name": "stdout",
          "text": [
            "Epoch 5:\n",
            "Train Loss: 0.4652, Train Acc: 79.50%\n",
            "Test Loss: 0.5706, Test Acc: 78.50%\n"
          ]
        },
        {
          "output_type": "stream",
          "name": "stderr",
          "text": [
            "Training: 100%|██████████| 32/32 [00:16<00:00,  1.97it/s]\n",
            "Validating: 100%|██████████| 7/7 [00:01<00:00,  4.44it/s]\n"
          ]
        },
        {
          "output_type": "stream",
          "name": "stdout",
          "text": [
            "Epoch 6:\n",
            "Train Loss: 0.4512, Train Acc: 79.70%\n",
            "Test Loss: 0.5661, Test Acc: 78.50%\n"
          ]
        },
        {
          "output_type": "stream",
          "name": "stderr",
          "text": [
            "Training: 100%|██████████| 32/32 [00:16<00:00,  1.93it/s]\n",
            "Validating: 100%|██████████| 7/7 [00:01<00:00,  3.75it/s]\n"
          ]
        },
        {
          "output_type": "stream",
          "name": "stdout",
          "text": [
            "Epoch 7:\n",
            "Train Loss: 0.4412, Train Acc: 79.50%\n",
            "Test Loss: 0.6224, Test Acc: 78.50%\n"
          ]
        },
        {
          "output_type": "stream",
          "name": "stderr",
          "text": [
            "Training: 100%|██████████| 32/32 [00:15<00:00,  2.02it/s]\n",
            "Validating: 100%|██████████| 7/7 [00:01<00:00,  5.76it/s]\n"
          ]
        },
        {
          "output_type": "stream",
          "name": "stdout",
          "text": [
            "Epoch 8:\n",
            "Train Loss: 0.4111, Train Acc: 79.40%\n",
            "Test Loss: 0.6070, Test Acc: 78.00%\n"
          ]
        },
        {
          "output_type": "stream",
          "name": "stderr",
          "text": [
            "Training: 100%|██████████| 32/32 [00:15<00:00,  2.11it/s]\n",
            "Validating: 100%|██████████| 7/7 [00:01<00:00,  4.03it/s]\n"
          ]
        },
        {
          "output_type": "stream",
          "name": "stdout",
          "text": [
            "Epoch 9:\n",
            "Train Loss: 0.4046, Train Acc: 81.80%\n",
            "Test Loss: 0.5784, Test Acc: 67.00%\n"
          ]
        },
        {
          "output_type": "stream",
          "name": "stderr",
          "text": [
            "Training: 100%|██████████| 32/32 [00:15<00:00,  2.09it/s]\n",
            "Validating: 100%|██████████| 7/7 [00:01<00:00,  5.13it/s]"
          ]
        },
        {
          "output_type": "stream",
          "name": "stdout",
          "text": [
            "Epoch 10:\n",
            "Train Loss: 0.3350, Train Acc: 86.50%\n",
            "Test Loss: 1.3075, Test Acc: 77.00%\n"
          ]
        },
        {
          "output_type": "stream",
          "name": "stderr",
          "text": [
            "\n"
          ]
        }
      ],
      "source": [
        "import torch\n",
        "import torch.nn as nn\n",
        "from transformers import BertModel, BertTokenizer\n",
        "from torchvision.models import resnet50\n",
        "from torchvision.transforms import Compose, Resize, ToTensor, Normalize, transforms\n",
        "from torch.utils.data import Dataset, DataLoader, random_split\n",
        "from PIL import Image, ImageDraw\n",
        "import numpy as np\n",
        "import matplotlib.pyplot as plt\n",
        "from tqdm import tqdm\n",
        "import os\n",
        "import torch.optim as optim\n",
        "\n",
        "import ssl\n",
        "ssl._create_default_https_context = ssl._create_unverified_context\n",
        "\n",
        "class ResNetFeatureExtractor(nn.Module):\n",
        "    def __init__(self, output_dim=768):\n",
        "        super().__init__()\n",
        "\n",
        "        resnet = resnet50(pretrained=True)\n",
        "        self.backbone = nn.Sequential(*list(resnet.children())[:-2])\n",
        "        self.pooling = nn.AdaptiveAvgPool2d((1, 1))\n",
        "        self.fc = nn.Linear(2048, output_dim)\n",
        "\n",
        "    def forward(self, x):\n",
        "        x = self.backbone(x)\n",
        "        x = self.pooling(x)\n",
        "        x = torch.flatten(x, 1)\n",
        "        x = self.fc(x)\n",
        "        return x\n",
        "\n",
        "class CrossAttention(nn.Module):\n",
        "    def __init__(self, dim):\n",
        "        super().__init__()\n",
        "        self.query = nn.Linear(dim, dim)\n",
        "        self.key = nn.Linear(dim, dim)\n",
        "        self.value = nn.Linear(dim, dim)\n",
        "        self.scale = dim ** -0.5\n",
        "\n",
        "    def forward(self, x, y):\n",
        "        q = self.query(x)\n",
        "        k = self.key(y)\n",
        "        v = self.value(y)\n",
        "\n",
        "        attention = torch.matmul(q, k.transpose(-2, -1)) * self.scale\n",
        "        attention = torch.softmax(attention, dim=-1)\n",
        "        out = torch.matmul(attention, v)\n",
        "        return out\n",
        "\n",
        "class VQAModel(nn.Module):\n",
        "    def __init__(self, num_classes=2, hidden_dim=768):\n",
        "        super().__init__()\n",
        "\n",
        "        self.resnet_features = ResNetFeatureExtractor(output_dim=hidden_dim)\n",
        "\n",
        "        self.bert = BertModel.from_pretrained('bert-base-uncased')\n",
        "        self.bert_projection = nn.Linear(768, hidden_dim)\n",
        "\n",
        "        self.fusion = CrossAttention(hidden_dim)\n",
        "\n",
        "        self.attention = nn.Sequential(\n",
        "            nn.Linear(hidden_dim, hidden_dim),\n",
        "            nn.ReLU(),\n",
        "            nn.Linear(hidden_dim, 1)\n",
        "        )\n",
        "\n",
        "        self.classifier = nn.Sequential(\n",
        "            nn.Linear(hidden_dim, hidden_dim),\n",
        "            nn.ReLU(),\n",
        "            nn.Dropout(0.1),\n",
        "            nn.Linear(hidden_dim, num_classes)\n",
        "        )\n",
        "\n",
        "    def forward(self, image, question_ids, attention_mask):\n",
        "        # process image\n",
        "        image_features = self.resnet_features(image)\n",
        "\n",
        "        # process question\n",
        "        question_output = self.bert(question_ids, attention_mask=attention_mask)\n",
        "        question_features = self.bert_projection(question_output.last_hidden_state)\n",
        "\n",
        "        # fusion through cross-attention\n",
        "        fused_features = self.fusion(question_features, image_features.unsqueeze(1))\n",
        "\n",
        "        # attention mechanism\n",
        "        attention_weights = self.attention(fused_features)\n",
        "        attention_weights = torch.softmax(attention_weights, dim=1)\n",
        "        attended_features = (fused_features * attention_weights).sum(dim=1)\n",
        "\n",
        "        # generate output prediction\n",
        "        logits = self.classifier(attended_features)\n",
        "        return logits\n",
        "\n",
        "def preprocess_image():\n",
        "    return Compose([\n",
        "        Resize((224, 224)),\n",
        "        ToTensor(),\n",
        "        Normalize(mean=[0.485, 0.456, 0.406], std=[0.229, 0.224, 0.225])\n",
        "    ])\n",
        "\n",
        "def preprocess_question(question: str, max_length: int = 64):\n",
        "    tokenizer = BertTokenizer.from_pretrained('bert-base-uncased')\n",
        "    tokens = tokenizer(\n",
        "        question,\n",
        "        padding='max_length',\n",
        "        max_length=max_length,\n",
        "        truncation=True,\n",
        "        return_tensors='pt'\n",
        "    )\n",
        "    return tokens\n",
        "\n",
        "class ShapeGenerator:\n",
        "    def __init__(self, img_size=(224,224), noise=0):\n",
        "        self.img_size = img_size\n",
        "        self.shapes = ['circle', 'square', 'triangle']\n",
        "        self.colors = {\n",
        "            'red': (255, 0, 0),\n",
        "            'blue': (0, 0, 255),\n",
        "            'green': (0, 255, 0)\n",
        "        }\n",
        "        self.positions = ['above', 'below', 'left of', 'right of']\n",
        "        self.shape_size = 40\n",
        "        self.noise = noise\n",
        "\n",
        "    def __shape__(self, draw, shape, color, pos):\n",
        "        if shape == 'circle':\n",
        "            draw.ellipse([pos[0]-self.shape_size//2,\n",
        "                         pos[1]-self.shape_size//2,\n",
        "                         pos[0]+self.shape_size//2,\n",
        "                         pos[1]+self.shape_size//2],\n",
        "                         fill=self.colors[color])\n",
        "        elif shape == 'square':\n",
        "            draw.rectangle([pos[0]-self.shape_size//2,\n",
        "                          pos[1]-self.shape_size//2,\n",
        "                          pos[0]+self.shape_size//2,\n",
        "                          pos[1]+self.shape_size//2],\n",
        "                          fill=self.colors[color])\n",
        "        elif shape == 'triangle':\n",
        "            points = [\n",
        "                (pos[0], pos[1]-self.shape_size//2),\n",
        "                (pos[0]-self.shape_size//2, pos[1]+self.shape_size//2),\n",
        "                (pos[0]+self.shape_size//2, pos[1]+self.shape_size//2)\n",
        "            ]\n",
        "            draw.polygon(points, fill=self.colors[color])\n",
        "\n",
        "    def __spatial__(self, pos1, pos2, rel):\n",
        "        if rel == 'above':\n",
        "            return pos1[1] < pos2[1]\n",
        "        elif rel == 'below':\n",
        "            return pos1[1] > pos2[1]\n",
        "        elif rel == 'left of':\n",
        "            return pos1[0] < pos2[0]\n",
        "        elif rel == 'right of':\n",
        "            return pos1[0] > pos2[0]\n",
        "\n",
        "    def generate_sample(self):\n",
        "        img = Image.new('RGB', self.img_size, 'white')\n",
        "        draw = ImageDraw.Draw(img)\n",
        "\n",
        "        shape1 = np.random.choice(self.shapes)\n",
        "        shape2 = np.random.choice(self.shapes)\n",
        "        color1 = np.random.choice(list(self.colors.keys()))\n",
        "        color2 = np.random.choice(list(self.colors.keys()))\n",
        "        position = np.random.choice(self.positions)\n",
        "\n",
        "        margin = self.shape_size\n",
        "        if position in ['above', 'below']:\n",
        "            x1 = np.random.randint(margin, self.img_size[0]-margin)\n",
        "            x2 = np.random.randint(margin, self.img_size[0]-margin)\n",
        "            if position == 'above':\n",
        "                y1 = self.img_size[1]//3\n",
        "                y2 = 2*self.img_size[1]//3\n",
        "            else:\n",
        "                y1 = 2*self.img_size[1]//3\n",
        "                y2 = self.img_size[1]//3\n",
        "        else:  # left or right\n",
        "            y1 = np.random.randint(margin, self.img_size[1]-margin)\n",
        "            y2 = np.random.randint(margin, self.img_size[1]-margin)\n",
        "            if position == 'left of':\n",
        "                x1 = self.img_size[0]//3\n",
        "                x2 = 2*self.img_size[0]//3\n",
        "            else:\n",
        "                x1 = 2*self.img_size[0]//3\n",
        "                x2 = self.img_size[0]//3\n",
        "\n",
        "        self.__shape__(draw, shape1, color1, (x1, y1))\n",
        "        self.__shape__(draw, shape2, color2, (x2, y2))\n",
        "\n",
        "        question = f\"Is there a {color1} {shape1} {position} a {color2} {shape2}?\"\n",
        "        answer = 'yes' if self.__spatial__((x1, y1), (x2, y2), position) else 'no'\n",
        "\n",
        "        return img, question, answer\n",
        "\n",
        "class ShapesDataset(Dataset):\n",
        "    def __init__(self, num_samples=1000, transform=None, split='train', noise=(0,0,0)):\n",
        "        self.transform = transform\n",
        "        self.generator = ShapeGenerator(noise=noise)\n",
        "        self.n = num_samples\n",
        "        self.data = []\n",
        "        self.noise_indices = []\n",
        "        self.tv_noise = noise[0]\n",
        "        self.shape_noise = noise[1]\n",
        "        self.color_noise = noise[2]\n",
        "\n",
        "        for i in tqdm(range(self.n)):\n",
        "            img, ques, ans = self.generator.generate_sample()\n",
        "\n",
        "            if np.random.rand() < self.tv_noise:\n",
        "                img = self.__tv_noise__(img)\n",
        "                self.noise_indices.append(i)\n",
        "\n",
        "            if np.random.rand() < self.shape_noise:\n",
        "                ques = self.__shape_noise__(ques)\n",
        "                ans = 'no'\n",
        "                self.noise_indices.append(i)\n",
        "            if np.random.rand() < self.color_noise:\n",
        "                ques = self.__color_noise__(ques)\n",
        "                ans = 'no'\n",
        "                self.noise_indices.append(i)\n",
        "\n",
        "            self.data.append((img, ques, ans))\n",
        "\n",
        "        self.ans2idx = {'yes':0, 'no':1}\n",
        "\n",
        "    def __tv_noise__(self, img):\n",
        "        np_img = np.array(img)\n",
        "        noise = np.random.randint(0, 64, (np_img.shape[0], np_img.shape[1], np_img.shape[2]), dtype='uint8')\n",
        "        np_img = np.clip(np_img + noise, 0, 255)\n",
        "        return Image.fromarray(np_img)\n",
        "\n",
        "    def __shape_noise__(self, ques):\n",
        "        shapes = ['circle', 'square', 'triangle']\n",
        "        current_shape = [shape for shape in shapes if shape in ques][0]\n",
        "        new_shape = np.random.choice([s for s in shapes if s != current_shape])\n",
        "        return ques.replace(current_shape, new_shape)\n",
        "\n",
        "    def __color_noise__(self, ques):\n",
        "        colors = ['red', 'blue', 'green']\n",
        "        current_color = [color for color in colors if color in ques][0]\n",
        "        new_color = np.random.choice([c for c in colors if c != current_color])\n",
        "        return ques.replace(current_color, new_color)\n",
        "\n",
        "    def __len__(self):\n",
        "        return self.n\n",
        "\n",
        "    def __getitem__(self, idx):\n",
        "        img, ques, ans = self.data[idx]\n",
        "\n",
        "        if self.transform:\n",
        "            img = self.transform(img)\n",
        "\n",
        "        return {\n",
        "            'image' : img,\n",
        "            'question' : ques,\n",
        "            'answer' : torch.tensor(self.ans2idx[ans], dtype=torch.long)\n",
        "        }\n",
        "\n",
        "    def visualise_sample(self, idx):\n",
        "        img, ques, ans = self.data[idx]\n",
        "        plt.figure(figsize=(10,5))\n",
        "        plt.imshow(img)\n",
        "        plt.title(f\"Q : {ques}\\nA: {ans}\")\n",
        "        plt.axis('off')\n",
        "        plt.show()\n",
        "\n",
        "def train_one_epoch(model, dataloader, criterion, optimizer, device):\n",
        "    model.train()\n",
        "    total_loss = 0\n",
        "    correct = 0\n",
        "    total = 0\n",
        "\n",
        "    for batch in tqdm(dataloader, desc='Training'):\n",
        "        images = batch['image'].to(device)\n",
        "        questions = batch['question']\n",
        "        answers = batch['answer'].to(device)\n",
        "\n",
        "        # process questions through BERT tokenizer\n",
        "        question_tokens = tokenizer(questions, padding=True, truncation=True,\n",
        "                                  return_tensors='pt').to(device)\n",
        "\n",
        "        optimizer.zero_grad()\n",
        "        outputs = model(images, question_tokens.input_ids,\n",
        "                       question_tokens.attention_mask)\n",
        "\n",
        "        loss = criterion(outputs, answers)\n",
        "        loss.backward()\n",
        "        optimizer.step()\n",
        "\n",
        "        total_loss += loss.item()\n",
        "        _, predicted = outputs.max(1)\n",
        "        total += answers.size(0)\n",
        "        correct += predicted.eq(answers).sum().item()\n",
        "\n",
        "    return total_loss / len(dataloader), 100. * correct / total\n",
        "\n",
        "def validate(model, dataloader, criterion, device):\n",
        "    model.eval()\n",
        "    total_loss = 0\n",
        "    correct = 0\n",
        "    total = 0\n",
        "\n",
        "    with torch.no_grad():\n",
        "        for batch in tqdm(dataloader, desc='Validating'):\n",
        "            images = batch['image'].to(device)\n",
        "            questions = batch['question']\n",
        "            answers = batch['answer'].to(device)\n",
        "\n",
        "            question_tokens = tokenizer(questions, padding=True, truncation=True,\n",
        "                                      return_tensors='pt').to(device)\n",
        "\n",
        "            outputs = model(images, question_tokens.input_ids,\n",
        "                          question_tokens.attention_mask)\n",
        "            loss = criterion(outputs, answers)\n",
        "\n",
        "            total_loss += loss.item()\n",
        "            _, predicted = outputs.max(1)\n",
        "            total += answers.size(0)\n",
        "            correct += predicted.eq(answers).sum().item()\n",
        "\n",
        "    return total_loss / len(dataloader), 100. * correct / total\n",
        "\n",
        "# define the image transforms\n",
        "transform = transforms.Compose([\n",
        "    transforms.Resize((224, 224)),\n",
        "    transforms.ToTensor(),\n",
        "    transforms.Normalize(mean=[0.485, 0.456, 0.406],\n",
        "                        std=[0.229, 0.224, 0.225])\n",
        "])\n",
        "\n",
        "\n",
        "# initialize the BERT tokenizer\n",
        "tokenizer = BertTokenizer.from_pretrained('bert-base-uncased')\n",
        "\n",
        "device = torch.device('cuda' if torch.cuda.is_available() else 'cpu')\n",
        "\n",
        "if __name__ == '__main__':\n",
        "    train_dataset = ShapesDataset(num_samples=1000, transform=transform, split='train', noise=(0.1,0.1,0.1))\n",
        "    test_dataset = ShapesDataset(num_samples=200, transform=transform, split='test', noise=(0.1,0.1,0.1))\n",
        "\n",
        "    # dataloaders\n",
        "    train_loader = DataLoader(train_dataset, batch_size=32, shuffle=True, num_workers=2)\n",
        "    test_loader = DataLoader(test_dataset, batch_size=32, shuffle=False, num_workers=2)\n",
        "\n",
        "    # initialize model and training components\n",
        "    model = VQAModel(num_classes=2).to(device)\n",
        "    criterion = nn.CrossEntropyLoss()\n",
        "    optimizer = optim.Adam(model.parameters(), lr=0.0001)\n",
        "\n",
        "    # training loop with validation\n",
        "    best_acc = 0\n",
        "    test_accs = []\n",
        "    test_losses = []\n",
        "    train_accs = []\n",
        "    train_losses = []\n",
        "    for epoch in range(10):\n",
        "        train_loss, train_acc = train_one_epoch(model, train_loader, criterion,\n",
        "                                            optimizer, device)\n",
        "        test_loss, test_acc = validate(model, test_loader, criterion, device)\n",
        "\n",
        "        test_accs.append(test_acc)\n",
        "        test_losses.append(test_loss)\n",
        "        train_accs.append(train_acc)\n",
        "        train_losses.append(train_loss)\n",
        "\n",
        "        print(f'Epoch {epoch+1}:')\n",
        "        print(f'Train Loss: {train_loss:.4f}, Train Acc: {train_acc:.2f}%')\n",
        "        print(f'Test Loss: {test_loss:.4f}, Test Acc: {test_acc:.2f}%')\n",
        "\n",
        "        if test_acc > best_acc:\n",
        "            best_acc = test_acc\n",
        "            torch.save(model.state_dict(), 'best_model.pth')"
      ]
    },
    {
      "cell_type": "code",
      "source": [
        "fig, axes = plt.subplots(nrows=2, ncols=2)\n",
        "axes[0][0].plot(test_accs)\n",
        "axes[0][0].set_title('Accuracy')\n",
        "axes[0][0].set_ylabel('Test')\n",
        "axes[0][1].plot(test_losses)\n",
        "axes[0][1].set_title('Losses')\n",
        "axes[1][0].plot(train_accs, label='Train Accuracy')\n",
        "axes[1][0].set_ylabel('Train')\n",
        "axes[1][1].plot(train_losses, label='Train Loss')\n",
        "fig.suptitle(f\"Test noise = {len(test_dataset.noise_indices)}/200 images | Train noise = {len(train_dataset.noise_indices)}/1000 images\")\n",
        "plt.show()"
      ],
      "metadata": {
        "colab": {
          "base_uri": "https://localhost:8080/",
          "height": 478
        },
        "id": "1b6LbBjF4Ulr",
        "outputId": "05e4daa2-8ca7-49c7-fef5-df5629d8f11b"
      },
      "execution_count": null,
      "outputs": [
        {
          "output_type": "display_data",
          "data": {
            "text/plain": [
              "<Figure size 640x480 with 4 Axes>"
            ],
            "image/png": "[encoded data removed]"
          },
          "metadata": {}
        }
      ]
    },
    {
      "cell_type": "code",
      "source": [
        "noises = [0.01, 0.05, 0.1, 0.2, 0.25, 0.3, 0.4, 0.5, 0.6, 0.7, 0.75]\n",
        "best_acc_tv = []\n",
        "def main():\n",
        "  for n in noises:\n",
        "    train_dataset = ShapesDataset(num_samples=1000, transform=transform, split='train', noise=(n,0.1,0.1))\n",
        "    test_dataset = ShapesDataset(num_samples=200, transform=transform, split='test', noise=(n,0.1,0.1))\n",
        "\n",
        "    train_loader = DataLoader(train_dataset, batch_size=32, shuffle=True, num_workers=2)\n",
        "    test_loader = DataLoader(test_dataset, batch_size=32, shuffle=False, num_workers=2)\n",
        "\n",
        "    model = VQAModel(num_classes=2).to(device)\n",
        "    criterion = nn.CrossEntropyLoss()\n",
        "    optimizer = optim.Adam(model.parameters(), lr=0.0001)\n",
        "\n",
        "    best_acc_test = 0\n",
        "    best_acc = 0\n",
        "    for epoch in range(5):\n",
        "        train_loss, train_acc = train_one_epoch(model, train_loader, criterion,\n",
        "                                            optimizer, device)\n",
        "        test_loss, test_acc = validate(model, test_loader, criterion, device)\n",
        "\n",
        "        print(f'Epoch {epoch+1}:')\n",
        "        print(f'Train Loss: {train_loss:.4f}, Train Acc: {train_acc:.2f}%')\n",
        "        print(f'Val Loss: {test_loss:.4f}, Val Acc: {test_acc:.2f}%')\n",
        "\n",
        "        if test_acc > best_acc_test:\n",
        "            best_acc_test = test_acc\n",
        "\n",
        "        if test_acc > best_acc:\n",
        "            best_acc = test_acc\n",
        "            torch.save(model.state_dict(), 'best_tv_model_by_noise.pth')\n",
        "\n",
        "    best_acc_tv.append(best_acc_test)\n",
        "\n",
        "\n",
        "if __name__ == '__main__':\n",
        "  main()"
      ],
      "metadata": {
        "colab": {
          "base_uri": "https://localhost:8080/"
        },
        "id": "aLixUMTv0F6k",
        "outputId": "b2616a67-9ef9-4de2-a3ab-c08e2849cb53",
        "collapsed": true
      },
      "execution_count": null,
      "outputs": [
        {
          "output_type": "stream",
          "name": "stderr",
          "text": [
            "100%|██████████| 1000/1000 [00:00<00:00, 5272.66it/s]\n",
            "100%|██████████| 200/200 [00:00<00:00, 5131.21it/s]\n",
            "/usr/local/lib/python3.10/dist-packages/torchvision/models/_utils.py:208: UserWarning: The parameter 'pretrained' is deprecated since 0.13 and may be removed in the future, please use 'weights' instead.\n",
            "  warnings.warn(\n",
            "/usr/local/lib/python3.10/dist-packages/torchvision/models/_utils.py:223: UserWarning: Arguments other than a weight enum or `None` for 'weights' are deprecated since 0.13 and may be removed in the future. The current behavior is equivalent to passing `weights=ResNet50_Weights.IMAGENET1K_V1`. You can also use `weights=ResNet50_Weights.DEFAULT` to get the most up-to-date weights.\n",
            "  warnings.warn(msg)\n",
            "Training: 100%|██████████| 32/32 [00:14<00:00,  2.24it/s]\n",
            "Validating: 100%|██████████| 7/7 [00:01<00:00,  4.42it/s]\n"
          ]
        },
        {
          "output_type": "stream",
          "name": "stdout",
          "text": [
            "Epoch 1:\n",
            "Train Loss: 0.5129, Train Acc: 81.00%\n",
            "Val Loss: 0.5667, Val Acc: 79.00%\n"
          ]
        },
        {
          "output_type": "stream",
          "name": "stderr",
          "text": [
            "Training: 100%|██████████| 32/32 [00:13<00:00,  2.30it/s]\n",
            "Validating: 100%|██████████| 7/7 [00:01<00:00,  6.08it/s]\n"
          ]
        },
        {
          "output_type": "stream",
          "name": "stdout",
          "text": [
            "Epoch 2:\n",
            "Train Loss: 0.4822, Train Acc: 81.10%\n",
            "Val Loss: 0.5578, Val Acc: 79.00%\n"
          ]
        },
        {
          "output_type": "stream",
          "name": "stderr",
          "text": [
            "Training: 100%|██████████| 32/32 [00:13<00:00,  2.30it/s]\n",
            "Validating: 100%|██████████| 7/7 [00:01<00:00,  6.38it/s]\n"
          ]
        },
        {
          "output_type": "stream",
          "name": "stdout",
          "text": [
            "Epoch 3:\n",
            "Train Loss: 0.4840, Train Acc: 81.10%\n",
            "Val Loss: 0.5856, Val Acc: 79.00%\n"
          ]
        },
        {
          "output_type": "stream",
          "name": "stderr",
          "text": [
            "Training: 100%|██████████| 32/32 [00:13<00:00,  2.29it/s]\n",
            "Validating: 100%|██████████| 7/7 [00:01<00:00,  6.40it/s]\n"
          ]
        },
        {
          "output_type": "stream",
          "name": "stdout",
          "text": [
            "Epoch 4:\n",
            "Train Loss: 0.4702, Train Acc: 81.10%\n",
            "Val Loss: 0.6595, Val Acc: 79.00%\n"
          ]
        },
        {
          "output_type": "stream",
          "name": "stderr",
          "text": [
            "Training: 100%|██████████| 32/32 [00:14<00:00,  2.25it/s]\n",
            "Validating: 100%|██████████| 7/7 [00:01<00:00,  5.61it/s]\n"
          ]
        },
        {
          "output_type": "stream",
          "name": "stdout",
          "text": [
            "Epoch 5:\n",
            "Train Loss: 0.4439, Train Acc: 81.10%\n",
            "Val Loss: 0.6117, Val Acc: 79.00%\n"
          ]
        },
        {
          "output_type": "stream",
          "name": "stderr",
          "text": [
            "100%|██████████| 1000/1000 [00:00<00:00, 2831.29it/s]\n",
            "100%|██████████| 200/200 [00:00<00:00, 2144.66it/s]\n",
            "Training: 100%|██████████| 32/32 [00:14<00:00,  2.23it/s]\n",
            "Validating: 100%|██████████| 7/7 [00:01<00:00,  6.43it/s]\n"
          ]
        },
        {
          "output_type": "stream",
          "name": "stdout",
          "text": [
            "Epoch 1:\n",
            "Train Loss: 0.5317, Train Acc: 77.70%\n",
            "Val Loss: 0.5004, Val Acc: 79.00%\n"
          ]
        },
        {
          "output_type": "stream",
          "name": "stderr",
          "text": [
            "Training: 100%|██████████| 32/32 [00:14<00:00,  2.24it/s]\n",
            "Validating: 100%|██████████| 7/7 [00:01<00:00,  6.25it/s]\n"
          ]
        },
        {
          "output_type": "stream",
          "name": "stdout",
          "text": [
            "Epoch 2:\n",
            "Train Loss: 0.4939, Train Acc: 79.30%\n",
            "Val Loss: 0.5034, Val Acc: 79.00%\n"
          ]
        },
        {
          "output_type": "stream",
          "name": "stderr",
          "text": [
            "Training: 100%|██████████| 32/32 [00:14<00:00,  2.25it/s]\n",
            "Validating: 100%|██████████| 7/7 [00:01<00:00,  6.38it/s]\n"
          ]
        },
        {
          "output_type": "stream",
          "name": "stdout",
          "text": [
            "Epoch 3:\n",
            "Train Loss: 0.4944, Train Acc: 79.30%\n",
            "Val Loss: 0.4952, Val Acc: 79.00%\n"
          ]
        },
        {
          "output_type": "stream",
          "name": "stderr",
          "text": [
            "Training: 100%|██████████| 32/32 [00:14<00:00,  2.26it/s]\n",
            "Validating: 100%|██████████| 7/7 [00:01<00:00,  5.52it/s]\n"
          ]
        },
        {
          "output_type": "stream",
          "name": "stdout",
          "text": [
            "Epoch 4:\n",
            "Train Loss: 0.4892, Train Acc: 79.30%\n",
            "Val Loss: 0.6159, Val Acc: 79.00%\n"
          ]
        },
        {
          "output_type": "stream",
          "name": "stderr",
          "text": [
            "Training: 100%|██████████| 32/32 [00:14<00:00,  2.23it/s]\n",
            "Validating: 100%|██████████| 7/7 [00:01<00:00,  5.93it/s]\n"
          ]
        },
        {
          "output_type": "stream",
          "name": "stdout",
          "text": [
            "Epoch 5:\n",
            "Train Loss: 0.4450, Train Acc: 79.30%\n",
            "Val Loss: 0.6604, Val Acc: 79.00%\n"
          ]
        },
        {
          "output_type": "stream",
          "name": "stderr",
          "text": [
            "100%|██████████| 1000/1000 [00:00<00:00, 3997.10it/s]\n",
            "100%|██████████| 200/200 [00:00<00:00, 4170.30it/s]\n",
            "Training: 100%|██████████| 32/32 [00:14<00:00,  2.24it/s]\n",
            "Validating: 100%|██████████| 7/7 [00:01<00:00,  6.18it/s]\n"
          ]
        },
        {
          "output_type": "stream",
          "name": "stdout",
          "text": [
            "Epoch 1:\n",
            "Train Loss: 0.5461, Train Acc: 78.20%\n",
            "Val Loss: 0.5323, Val Acc: 80.50%\n"
          ]
        },
        {
          "output_type": "stream",
          "name": "stderr",
          "text": [
            "Training: 100%|██████████| 32/32 [00:14<00:00,  2.25it/s]\n",
            "Validating: 100%|██████████| 7/7 [00:01<00:00,  6.26it/s]\n"
          ]
        },
        {
          "output_type": "stream",
          "name": "stdout",
          "text": [
            "Epoch 2:\n",
            "Train Loss: 0.5150, Train Acc: 78.30%\n",
            "Val Loss: 0.5135, Val Acc: 80.50%\n"
          ]
        },
        {
          "output_type": "stream",
          "name": "stderr",
          "text": [
            "Training: 100%|██████████| 32/32 [00:14<00:00,  2.23it/s]\n",
            "Validating: 100%|██████████| 7/7 [00:01<00:00,  5.17it/s]\n"
          ]
        },
        {
          "output_type": "stream",
          "name": "stdout",
          "text": [
            "Epoch 3:\n",
            "Train Loss: 0.5249, Train Acc: 78.30%\n",
            "Val Loss: 0.5442, Val Acc: 80.50%\n"
          ]
        },
        {
          "output_type": "stream",
          "name": "stderr",
          "text": [
            "Training: 100%|██████████| 32/32 [00:14<00:00,  2.22it/s]\n",
            "Validating: 100%|██████████| 7/7 [00:01<00:00,  5.89it/s]\n"
          ]
        },
        {
          "output_type": "stream",
          "name": "stdout",
          "text": [
            "Epoch 4:\n",
            "Train Loss: 0.5046, Train Acc: 78.30%\n",
            "Val Loss: 0.5559, Val Acc: 80.50%\n"
          ]
        },
        {
          "output_type": "stream",
          "name": "stderr",
          "text": [
            "Training: 100%|██████████| 32/32 [00:14<00:00,  2.25it/s]\n",
            "Validating: 100%|██████████| 7/7 [00:01<00:00,  6.31it/s]\n"
          ]
        },
        {
          "output_type": "stream",
          "name": "stdout",
          "text": [
            "Epoch 5:\n",
            "Train Loss: 0.4977, Train Acc: 78.30%\n",
            "Val Loss: 0.5849, Val Acc: 80.50%\n"
          ]
        },
        {
          "output_type": "stream",
          "name": "stderr",
          "text": [
            "100%|██████████| 1000/1000 [00:00<00:00, 3029.52it/s]\n",
            "100%|██████████| 200/200 [00:00<00:00, 2217.28it/s]\n",
            "Training: 100%|██████████| 32/32 [00:14<00:00,  2.24it/s]\n",
            "Validating: 100%|██████████| 7/7 [00:01<00:00,  6.18it/s]\n"
          ]
        },
        {
          "output_type": "stream",
          "name": "stdout",
          "text": [
            "Epoch 1:\n",
            "Train Loss: 0.5047, Train Acc: 79.90%\n",
            "Val Loss: 0.5128, Val Acc: 76.50%\n"
          ]
        },
        {
          "output_type": "stream",
          "name": "stderr",
          "text": [
            "Training: 100%|██████████| 32/32 [00:14<00:00,  2.23it/s]\n",
            "Validating: 100%|██████████| 7/7 [00:01<00:00,  5.66it/s]\n"
          ]
        },
        {
          "output_type": "stream",
          "name": "stdout",
          "text": [
            "Epoch 2:\n",
            "Train Loss: 0.4873, Train Acc: 81.40%\n",
            "Val Loss: 0.5201, Val Acc: 76.50%\n"
          ]
        },
        {
          "output_type": "stream",
          "name": "stderr",
          "text": [
            "Training: 100%|██████████| 32/32 [00:14<00:00,  2.23it/s]\n",
            "Validating: 100%|██████████| 7/7 [00:01<00:00,  5.86it/s]\n"
          ]
        },
        {
          "output_type": "stream",
          "name": "stdout",
          "text": [
            "Epoch 3:\n",
            "Train Loss: 0.4730, Train Acc: 81.40%\n",
            "Val Loss: 0.5674, Val Acc: 76.50%\n"
          ]
        },
        {
          "output_type": "stream",
          "name": "stderr",
          "text": [
            "Training: 100%|██████████| 32/32 [00:14<00:00,  2.25it/s]\n",
            "Validating: 100%|██████████| 7/7 [00:01<00:00,  6.34it/s]\n"
          ]
        },
        {
          "output_type": "stream",
          "name": "stdout",
          "text": [
            "Epoch 4:\n",
            "Train Loss: 0.4850, Train Acc: 81.40%\n",
            "Val Loss: 0.5338, Val Acc: 76.50%\n"
          ]
        },
        {
          "output_type": "stream",
          "name": "stderr",
          "text": [
            "Training: 100%|██████████| 32/32 [00:14<00:00,  2.26it/s]\n",
            "Validating: 100%|██████████| 7/7 [00:01<00:00,  6.33it/s]\n"
          ]
        },
        {
          "output_type": "stream",
          "name": "stdout",
          "text": [
            "Epoch 5:\n",
            "Train Loss: 0.4657, Train Acc: 81.40%\n",
            "Val Loss: 0.7036, Val Acc: 76.50%\n"
          ]
        },
        {
          "output_type": "stream",
          "name": "stderr",
          "text": [
            "100%|██████████| 1000/1000 [00:00<00:00, 3203.71it/s]\n",
            "100%|██████████| 200/200 [00:00<00:00, 3350.95it/s]\n",
            "Training: 100%|██████████| 32/32 [00:14<00:00,  2.26it/s]\n",
            "Validating: 100%|██████████| 7/7 [00:01<00:00,  6.27it/s]\n"
          ]
        },
        {
          "output_type": "stream",
          "name": "stdout",
          "text": [
            "Epoch 1:\n",
            "Train Loss: 0.5240, Train Acc: 80.10%\n",
            "Val Loss: 0.4187, Val Acc: 85.00%\n"
          ]
        },
        {
          "output_type": "stream",
          "name": "stderr",
          "text": [
            "Training: 100%|██████████| 32/32 [00:14<00:00,  2.23it/s]\n",
            "Validating: 100%|██████████| 7/7 [00:01<00:00,  6.29it/s]\n"
          ]
        },
        {
          "output_type": "stream",
          "name": "stdout",
          "text": [
            "Epoch 2:\n",
            "Train Loss: 0.5034, Train Acc: 80.10%\n",
            "Val Loss: 0.4636, Val Acc: 85.00%\n"
          ]
        },
        {
          "output_type": "stream",
          "name": "stderr",
          "text": [
            "Training: 100%|██████████| 32/32 [00:14<00:00,  2.21it/s]\n",
            "Validating: 100%|██████████| 7/7 [00:01<00:00,  5.21it/s]\n"
          ]
        },
        {
          "output_type": "stream",
          "name": "stdout",
          "text": [
            "Epoch 3:\n",
            "Train Loss: 0.4669, Train Acc: 80.10%\n",
            "Val Loss: 0.6673, Val Acc: 85.00%\n"
          ]
        },
        {
          "output_type": "stream",
          "name": "stderr",
          "text": [
            "Training: 100%|██████████| 32/32 [00:14<00:00,  2.22it/s]\n",
            "Validating: 100%|██████████| 7/7 [00:01<00:00,  6.23it/s]\n"
          ]
        },
        {
          "output_type": "stream",
          "name": "stdout",
          "text": [
            "Epoch 4:\n",
            "Train Loss: 0.4113, Train Acc: 83.00%\n",
            "Val Loss: 0.6900, Val Acc: 83.00%\n"
          ]
        },
        {
          "output_type": "stream",
          "name": "stderr",
          "text": [
            "Training: 100%|██████████| 32/32 [00:14<00:00,  2.26it/s]\n",
            "Validating: 100%|██████████| 7/7 [00:01<00:00,  6.28it/s]\n"
          ]
        },
        {
          "output_type": "stream",
          "name": "stdout",
          "text": [
            "Epoch 5:\n",
            "Train Loss: 0.4216, Train Acc: 83.20%\n",
            "Val Loss: 0.7267, Val Acc: 64.50%\n"
          ]
        },
        {
          "output_type": "stream",
          "name": "stderr",
          "text": [
            "100%|██████████| 1000/1000 [00:00<00:00, 1844.52it/s]\n",
            "100%|██████████| 200/200 [00:00<00:00, 1357.41it/s]\n",
            "Training: 100%|██████████| 32/32 [00:14<00:00,  2.23it/s]\n",
            "Validating: 100%|██████████| 7/7 [00:01<00:00,  6.16it/s]\n"
          ]
        },
        {
          "output_type": "stream",
          "name": "stdout",
          "text": [
            "Epoch 1:\n",
            "Train Loss: 0.4722, Train Acc: 81.70%\n",
            "Val Loss: 0.4973, Val Acc: 82.00%\n"
          ]
        },
        {
          "output_type": "stream",
          "name": "stderr",
          "text": [
            "Training: 100%|██████████| 32/32 [00:14<00:00,  2.23it/s]\n",
            "Validating: 100%|██████████| 7/7 [00:01<00:00,  6.24it/s]\n"
          ]
        },
        {
          "output_type": "stream",
          "name": "stdout",
          "text": [
            "Epoch 2:\n",
            "Train Loss: 0.4070, Train Acc: 83.90%\n",
            "Val Loss: 0.7051, Val Acc: 82.00%\n"
          ]
        },
        {
          "output_type": "stream",
          "name": "stderr",
          "text": [
            "Training: 100%|██████████| 32/32 [00:14<00:00,  2.23it/s]\n",
            "Validating: 100%|██████████| 7/7 [00:01<00:00,  6.13it/s]\n"
          ]
        },
        {
          "output_type": "stream",
          "name": "stdout",
          "text": [
            "Epoch 3:\n",
            "Train Loss: 0.3561, Train Acc: 85.60%\n",
            "Val Loss: 0.7424, Val Acc: 60.50%\n"
          ]
        },
        {
          "output_type": "stream",
          "name": "stderr",
          "text": [
            "Training: 100%|██████████| 32/32 [00:14<00:00,  2.25it/s]\n",
            "Validating: 100%|██████████| 7/7 [00:01<00:00,  6.03it/s]\n"
          ]
        },
        {
          "output_type": "stream",
          "name": "stdout",
          "text": [
            "Epoch 4:\n",
            "Train Loss: 0.3083, Train Acc: 86.70%\n",
            "Val Loss: 1.3861, Val Acc: 82.00%\n"
          ]
        },
        {
          "output_type": "stream",
          "name": "stderr",
          "text": [
            "Training: 100%|██████████| 32/32 [00:14<00:00,  2.22it/s]\n",
            "Validating: 100%|██████████| 7/7 [00:01<00:00,  5.02it/s]\n"
          ]
        },
        {
          "output_type": "stream",
          "name": "stdout",
          "text": [
            "Epoch 5:\n",
            "Train Loss: 0.3275, Train Acc: 86.80%\n",
            "Val Loss: 1.5495, Val Acc: 82.00%\n"
          ]
        },
        {
          "output_type": "stream",
          "name": "stderr",
          "text": [
            "100%|██████████| 1000/1000 [00:00<00:00, 2160.49it/s]\n",
            "100%|██████████| 200/200 [00:00<00:00, 2517.48it/s]\n",
            "Training: 100%|██████████| 32/32 [00:14<00:00,  2.28it/s]\n",
            "Validating: 100%|██████████| 7/7 [00:01<00:00,  6.25it/s]\n"
          ]
        },
        {
          "output_type": "stream",
          "name": "stdout",
          "text": [
            "Epoch 1:\n",
            "Train Loss: 0.5041, Train Acc: 80.10%\n",
            "Val Loss: 0.5638, Val Acc: 79.50%\n"
          ]
        },
        {
          "output_type": "stream",
          "name": "stderr",
          "text": [
            "Training: 100%|██████████| 32/32 [00:14<00:00,  2.24it/s]\n",
            "Validating: 100%|██████████| 7/7 [00:01<00:00,  6.19it/s]\n"
          ]
        },
        {
          "output_type": "stream",
          "name": "stdout",
          "text": [
            "Epoch 2:\n",
            "Train Loss: 0.4492, Train Acc: 80.70%\n",
            "Val Loss: 0.9324, Val Acc: 79.50%\n"
          ]
        },
        {
          "output_type": "stream",
          "name": "stderr",
          "text": [
            "Training: 100%|██████████| 32/32 [00:14<00:00,  2.24it/s]\n",
            "Validating: 100%|██████████| 7/7 [00:01<00:00,  6.32it/s]\n"
          ]
        },
        {
          "output_type": "stream",
          "name": "stdout",
          "text": [
            "Epoch 3:\n",
            "Train Loss: 0.3676, Train Acc: 85.90%\n",
            "Val Loss: 1.4436, Val Acc: 79.50%\n"
          ]
        },
        {
          "output_type": "stream",
          "name": "stderr",
          "text": [
            "Training: 100%|██████████| 32/32 [00:14<00:00,  2.24it/s]\n",
            "Validating: 100%|██████████| 7/7 [00:01<00:00,  5.05it/s]\n"
          ]
        },
        {
          "output_type": "stream",
          "name": "stdout",
          "text": [
            "Epoch 4:\n",
            "Train Loss: 0.3695, Train Acc: 85.90%\n",
            "Val Loss: 1.0302, Val Acc: 79.50%\n"
          ]
        },
        {
          "output_type": "stream",
          "name": "stderr",
          "text": [
            "Training: 100%|██████████| 32/32 [00:14<00:00,  2.20it/s]\n",
            "Validating: 100%|██████████| 7/7 [00:01<00:00,  6.27it/s]\n"
          ]
        },
        {
          "output_type": "stream",
          "name": "stdout",
          "text": [
            "Epoch 5:\n",
            "Train Loss: 0.3036, Train Acc: 87.20%\n",
            "Val Loss: 0.6417, Val Acc: 77.00%\n"
          ]
        },
        {
          "output_type": "stream",
          "name": "stderr",
          "text": [
            "100%|██████████| 1000/1000 [00:00<00:00, 2123.94it/s]\n",
            "100%|██████████| 200/200 [00:00<00:00, 2309.94it/s]\n",
            "Training: 100%|██████████| 32/32 [00:14<00:00,  2.26it/s]\n",
            "Validating: 100%|██████████| 7/7 [00:01<00:00,  6.22it/s]\n"
          ]
        },
        {
          "output_type": "stream",
          "name": "stdout",
          "text": [
            "Epoch 1:\n",
            "Train Loss: 0.5081, Train Acc: 81.00%\n",
            "Val Loss: 0.5148, Val Acc: 80.00%\n"
          ]
        },
        {
          "output_type": "stream",
          "name": "stderr",
          "text": [
            "Training: 100%|██████████| 32/32 [00:14<00:00,  2.25it/s]\n",
            "Validating: 100%|██████████| 7/7 [00:01<00:00,  5.94it/s]\n"
          ]
        },
        {
          "output_type": "stream",
          "name": "stdout",
          "text": [
            "Epoch 2:\n",
            "Train Loss: 0.4464, Train Acc: 81.70%\n",
            "Val Loss: 0.6806, Val Acc: 80.00%\n"
          ]
        },
        {
          "output_type": "stream",
          "name": "stderr",
          "text": [
            "Training: 100%|██████████| 32/32 [00:14<00:00,  2.22it/s]\n",
            "Validating: 100%|██████████| 7/7 [00:01<00:00,  5.14it/s]\n"
          ]
        },
        {
          "output_type": "stream",
          "name": "stdout",
          "text": [
            "Epoch 3:\n",
            "Train Loss: 0.3359, Train Acc: 86.90%\n",
            "Val Loss: 1.2457, Val Acc: 80.00%\n"
          ]
        },
        {
          "output_type": "stream",
          "name": "stderr",
          "text": [
            "Training: 100%|██████████| 32/32 [00:14<00:00,  2.24it/s]\n",
            "Validating: 100%|██████████| 7/7 [00:01<00:00,  6.24it/s]\n"
          ]
        },
        {
          "output_type": "stream",
          "name": "stdout",
          "text": [
            "Epoch 4:\n",
            "Train Loss: 0.3131, Train Acc: 86.90%\n",
            "Val Loss: 0.5871, Val Acc: 79.50%\n"
          ]
        },
        {
          "output_type": "stream",
          "name": "stderr",
          "text": [
            "Training: 100%|██████████| 32/32 [00:14<00:00,  2.25it/s]\n",
            "Validating: 100%|██████████| 7/7 [00:01<00:00,  6.26it/s]\n"
          ]
        },
        {
          "output_type": "stream",
          "name": "stdout",
          "text": [
            "Epoch 5:\n",
            "Train Loss: 0.2845, Train Acc: 87.30%\n",
            "Val Loss: 0.9270, Val Acc: 65.00%\n"
          ]
        },
        {
          "output_type": "stream",
          "name": "stderr",
          "text": [
            "100%|██████████| 1000/1000 [00:00<00:00, 1805.96it/s]\n",
            "100%|██████████| 200/200 [00:00<00:00, 2186.86it/s]\n",
            "Training: 100%|██████████| 32/32 [00:14<00:00,  2.24it/s]\n",
            "Validating: 100%|██████████| 7/7 [00:01<00:00,  6.20it/s]\n"
          ]
        },
        {
          "output_type": "stream",
          "name": "stdout",
          "text": [
            "Epoch 1:\n",
            "Train Loss: 0.5273, Train Acc: 78.50%\n",
            "Val Loss: 0.4854, Val Acc: 82.00%\n"
          ]
        },
        {
          "output_type": "stream",
          "name": "stderr",
          "text": [
            "Training: 100%|██████████| 32/32 [00:14<00:00,  2.22it/s]\n",
            "Validating: 100%|██████████| 7/7 [00:01<00:00,  5.04it/s]\n"
          ]
        },
        {
          "output_type": "stream",
          "name": "stdout",
          "text": [
            "Epoch 2:\n",
            "Train Loss: 0.4085, Train Acc: 81.70%\n",
            "Val Loss: 0.9157, Val Acc: 82.00%\n"
          ]
        },
        {
          "output_type": "stream",
          "name": "stderr",
          "text": [
            "Training: 100%|██████████| 32/32 [00:14<00:00,  2.24it/s]\n",
            "Validating: 100%|██████████| 7/7 [00:01<00:00,  6.04it/s]\n"
          ]
        },
        {
          "output_type": "stream",
          "name": "stdout",
          "text": [
            "Epoch 3:\n",
            "Train Loss: 0.3165, Train Acc: 88.60%\n",
            "Val Loss: 1.4987, Val Acc: 52.00%\n"
          ]
        },
        {
          "output_type": "stream",
          "name": "stderr",
          "text": [
            "Training: 100%|██████████| 32/32 [00:14<00:00,  2.24it/s]\n",
            "Validating: 100%|██████████| 7/7 [00:01<00:00,  5.96it/s]\n"
          ]
        },
        {
          "output_type": "stream",
          "name": "stdout",
          "text": [
            "Epoch 4:\n",
            "Train Loss: 0.2701, Train Acc: 89.50%\n",
            "Val Loss: 0.7048, Val Acc: 81.50%\n"
          ]
        },
        {
          "output_type": "stream",
          "name": "stderr",
          "text": [
            "Training: 100%|██████████| 32/32 [00:14<00:00,  2.20it/s]\n",
            "Validating: 100%|██████████| 7/7 [00:01<00:00,  6.08it/s]\n"
          ]
        },
        {
          "output_type": "stream",
          "name": "stdout",
          "text": [
            "Epoch 5:\n",
            "Train Loss: 0.2401, Train Acc: 90.50%\n",
            "Val Loss: 0.9680, Val Acc: 82.00%\n"
          ]
        },
        {
          "output_type": "stream",
          "name": "stderr",
          "text": [
            "100%|██████████| 1000/1000 [00:00<00:00, 1747.23it/s]\n",
            "100%|██████████| 200/200 [00:00<00:00, 1684.01it/s]\n",
            "Training: 100%|██████████| 32/32 [00:14<00:00,  2.24it/s]\n",
            "Validating: 100%|██████████| 7/7 [00:01<00:00,  5.83it/s]\n"
          ]
        },
        {
          "output_type": "stream",
          "name": "stdout",
          "text": [
            "Epoch 1:\n",
            "Train Loss: 0.5167, Train Acc: 79.70%\n",
            "Val Loss: 0.4483, Val Acc: 83.50%\n"
          ]
        },
        {
          "output_type": "stream",
          "name": "stderr",
          "text": [
            "Training: 100%|██████████| 32/32 [00:14<00:00,  2.24it/s]\n",
            "Validating: 100%|██████████| 7/7 [00:01<00:00,  6.23it/s]\n"
          ]
        },
        {
          "output_type": "stream",
          "name": "stdout",
          "text": [
            "Epoch 2:\n",
            "Train Loss: 0.3825, Train Acc: 82.30%\n",
            "Val Loss: 0.6041, Val Acc: 83.50%\n"
          ]
        },
        {
          "output_type": "stream",
          "name": "stderr",
          "text": [
            "Training: 100%|██████████| 32/32 [00:14<00:00,  2.24it/s]\n",
            "Validating: 100%|██████████| 7/7 [00:01<00:00,  6.25it/s]\n"
          ]
        },
        {
          "output_type": "stream",
          "name": "stdout",
          "text": [
            "Epoch 3:\n",
            "Train Loss: 0.2632, Train Acc: 91.00%\n",
            "Val Loss: 1.1578, Val Acc: 83.50%\n"
          ]
        },
        {
          "output_type": "stream",
          "name": "stderr",
          "text": [
            "Training: 100%|██████████| 32/32 [00:14<00:00,  2.22it/s]\n",
            "Validating: 100%|██████████| 7/7 [00:01<00:00,  6.21it/s]\n"
          ]
        },
        {
          "output_type": "stream",
          "name": "stdout",
          "text": [
            "Epoch 4:\n",
            "Train Loss: 0.2146, Train Acc: 91.70%\n",
            "Val Loss: 0.6918, Val Acc: 76.50%\n"
          ]
        },
        {
          "output_type": "stream",
          "name": "stderr",
          "text": [
            "Training: 100%|██████████| 32/32 [00:14<00:00,  2.25it/s]\n",
            "Validating: 100%|██████████| 7/7 [00:01<00:00,  5.08it/s]\n"
          ]
        },
        {
          "output_type": "stream",
          "name": "stdout",
          "text": [
            "Epoch 5:\n",
            "Train Loss: 0.2430, Train Acc: 90.40%\n",
            "Val Loss: 0.6093, Val Acc: 76.00%\n"
          ]
        },
        {
          "output_type": "stream",
          "name": "stderr",
          "text": [
            "100%|██████████| 1000/1000 [00:01<00:00, 995.63it/s]\n",
            "100%|██████████| 200/200 [00:00<00:00, 1433.41it/s]\n",
            "Training: 100%|██████████| 32/32 [00:14<00:00,  2.27it/s]\n",
            "Validating: 100%|██████████| 7/7 [00:01<00:00,  6.27it/s]\n"
          ]
        },
        {
          "output_type": "stream",
          "name": "stdout",
          "text": [
            "Epoch 1:\n",
            "Train Loss: 0.5180, Train Acc: 78.90%\n",
            "Val Loss: 0.4446, Val Acc: 84.00%\n"
          ]
        },
        {
          "output_type": "stream",
          "name": "stderr",
          "text": [
            "Training: 100%|██████████| 32/32 [00:14<00:00,  2.24it/s]\n",
            "Validating: 100%|██████████| 7/7 [00:01<00:00,  6.30it/s]\n"
          ]
        },
        {
          "output_type": "stream",
          "name": "stdout",
          "text": [
            "Epoch 2:\n",
            "Train Loss: 0.3469, Train Acc: 83.00%\n",
            "Val Loss: 0.7893, Val Acc: 84.00%\n"
          ]
        },
        {
          "output_type": "stream",
          "name": "stderr",
          "text": [
            "Training: 100%|██████████| 32/32 [00:14<00:00,  2.23it/s]\n",
            "Validating: 100%|██████████| 7/7 [00:01<00:00,  6.21it/s]\n"
          ]
        },
        {
          "output_type": "stream",
          "name": "stdout",
          "text": [
            "Epoch 3:\n",
            "Train Loss: 0.2106, Train Acc: 92.70%\n",
            "Val Loss: 0.8338, Val Acc: 81.00%\n"
          ]
        },
        {
          "output_type": "stream",
          "name": "stderr",
          "text": [
            "Training: 100%|██████████| 32/32 [00:14<00:00,  2.23it/s]\n",
            "Validating: 100%|██████████| 7/7 [00:01<00:00,  5.25it/s]\n"
          ]
        },
        {
          "output_type": "stream",
          "name": "stdout",
          "text": [
            "Epoch 4:\n",
            "Train Loss: 0.2516, Train Acc: 89.80%\n",
            "Val Loss: 0.8639, Val Acc: 65.50%\n"
          ]
        },
        {
          "output_type": "stream",
          "name": "stderr",
          "text": [
            "Training: 100%|██████████| 32/32 [00:14<00:00,  2.22it/s]\n",
            "Validating: 100%|██████████| 7/7 [00:01<00:00,  6.02it/s]"
          ]
        },
        {
          "output_type": "stream",
          "name": "stdout",
          "text": [
            "Epoch 5:\n",
            "Train Loss: 0.1705, Train Acc: 93.70%\n",
            "Val Loss: 1.0433, Val Acc: 84.00%\n"
          ]
        },
        {
          "output_type": "stream",
          "name": "stderr",
          "text": [
            "\n"
          ]
        }
      ]
    },
    {
      "cell_type": "code",
      "source": [
        "plt.plot(noises, best_acc_tv)\n",
        "plt.xlabel('Noise')\n",
        "plt.ylabel('Accuracy')\n",
        "plt.title(f'Accuracy vs TV Noise (Max {max(best_acc_tv)}%)')\n",
        "plt.show()"
      ],
      "metadata": {
        "colab": {
          "base_uri": "https://localhost:8080/",
          "height": 472
        },
        "id": "vDSGCSOyFFb8",
        "outputId": "4b17261b-3c16-4a82-b3b8-ea1688a0dd0d"
      },
      "execution_count": null,
      "outputs": [
        {
          "output_type": "display_data",
          "data": {
            "text/plain": [
              "<Figure size 640x480 with 1 Axes>"
            ],
            "image/png": "[encoded data removed]"
          },
          "metadata": {}
        }
      ]
    },
    {
      "cell_type": "code",
      "source": [
        "noises = [0.01, 0.05, 0.1, 0.2, 0.25, 0.3, 0.4, 0.5, 0.6, 0.7, 0.75]\n",
        "best_acc_shape = []\n",
        "def main():\n",
        "  for n in noises:\n",
        "    train_dataset = ShapesDataset(num_samples=1000, transform=transform, split='train', noise=(0.1,n,0.1))\n",
        "    test_dataset = ShapesDataset(num_samples=200, transform=transform, split='test', noise=(0.1,n,0.1))\n",
        "\n",
        "    train_loader = DataLoader(train_dataset, batch_size=32, shuffle=True, num_workers=2)\n",
        "    test_loader = DataLoader(test_dataset, batch_size=32, shuffle=False, num_workers=2)\n",
        "\n",
        "    model = VQAModel(num_classes=2).to(device)\n",
        "    criterion = nn.CrossEntropyLoss()\n",
        "    optimizer = optim.Adam(model.parameters(), lr=0.0001)\n",
        "\n",
        "    best_acc_test = 0\n",
        "    best_acc = 0\n",
        "    for epoch in range(5):\n",
        "        train_loss, train_acc = train_one_epoch(model, train_loader, criterion,\n",
        "                                            optimizer, device)\n",
        "        test_loss, test_acc = validate(model, test_loader, criterion, device)\n",
        "\n",
        "        print(f'Epoch {epoch+1}:')\n",
        "        print(f'Train Loss: {train_loss:.4f}, Train Acc: {train_acc:.2f}%')\n",
        "        print(f'Val Loss: {test_loss:.4f}, Val Acc: {test_acc:.2f}%')\n",
        "\n",
        "        if test_acc > best_acc_test:\n",
        "            best_acc_test = test_acc\n",
        "\n",
        "        if test_acc > best_acc:\n",
        "            best_acc = test_acc\n",
        "            torch.save(model.state_dict(), 'best_shape_model_by_noise.pth')\n",
        "\n",
        "    best_acc_shape.append(best_acc_test)\n",
        "\n",
        "\n",
        "if __name__ == '__main__':\n",
        "  main()"
      ],
      "metadata": {
        "colab": {
          "base_uri": "https://localhost:8080/"
        },
        "id": "xmnm21v6IcgU",
        "outputId": "ab5678c3-51e7-4472-dcb1-accae30bad2b",
        "collapsed": true
      },
      "execution_count": null,
      "outputs": [
        {
          "output_type": "stream",
          "name": "stderr",
          "text": [
            "100%|██████████| 1000/1000 [00:00<00:00, 4039.83it/s]\n",
            "100%|██████████| 200/200 [00:00<00:00, 3743.51it/s]\n",
            "/usr/local/lib/python3.10/dist-packages/torchvision/models/_utils.py:208: UserWarning: The parameter 'pretrained' is deprecated since 0.13 and may be removed in the future, please use 'weights' instead.\n",
            "  warnings.warn(\n",
            "/usr/local/lib/python3.10/dist-packages/torchvision/models/_utils.py:223: UserWarning: Arguments other than a weight enum or `None` for 'weights' are deprecated since 0.13 and may be removed in the future. The current behavior is equivalent to passing `weights=ResNet50_Weights.IMAGENET1K_V1`. You can also use `weights=ResNet50_Weights.DEFAULT` to get the most up-to-date weights.\n",
            "  warnings.warn(msg)\n",
            "Training: 100%|██████████| 32/32 [00:14<00:00,  2.20it/s]\n",
            "Validating: 100%|██████████| 7/7 [00:01<00:00,  5.33it/s]\n"
          ]
        },
        {
          "output_type": "stream",
          "name": "stdout",
          "text": [
            "Epoch 1:\n",
            "Train Loss: 0.3811, Train Acc: 86.60%\n",
            "Val Loss: 0.3724, Val Acc: 89.00%\n"
          ]
        },
        {
          "output_type": "stream",
          "name": "stderr",
          "text": [
            "Training: 100%|██████████| 32/32 [00:14<00:00,  2.15it/s]\n",
            "Validating: 100%|██████████| 7/7 [00:01<00:00,  6.47it/s]\n"
          ]
        },
        {
          "output_type": "stream",
          "name": "stdout",
          "text": [
            "Epoch 2:\n",
            "Train Loss: 0.3507, Train Acc: 88.60%\n",
            "Val Loss: 0.3959, Val Acc: 89.00%\n"
          ]
        },
        {
          "output_type": "stream",
          "name": "stderr",
          "text": [
            "Training: 100%|██████████| 32/32 [00:14<00:00,  2.26it/s]\n",
            "Validating: 100%|██████████| 7/7 [00:01<00:00,  5.78it/s]\n"
          ]
        },
        {
          "output_type": "stream",
          "name": "stdout",
          "text": [
            "Epoch 3:\n",
            "Train Loss: 0.3189, Train Acc: 88.60%\n",
            "Val Loss: 0.4846, Val Acc: 89.00%\n"
          ]
        },
        {
          "output_type": "stream",
          "name": "stderr",
          "text": [
            "Training: 100%|██████████| 32/32 [00:14<00:00,  2.23it/s]\n",
            "Validating: 100%|██████████| 7/7 [00:01<00:00,  5.66it/s]\n"
          ]
        },
        {
          "output_type": "stream",
          "name": "stdout",
          "text": [
            "Epoch 4:\n",
            "Train Loss: 0.3109, Train Acc: 88.60%\n",
            "Val Loss: 0.3987, Val Acc: 89.00%\n"
          ]
        },
        {
          "output_type": "stream",
          "name": "stderr",
          "text": [
            "Training: 100%|██████████| 32/32 [00:14<00:00,  2.22it/s]\n",
            "Validating: 100%|██████████| 7/7 [00:01<00:00,  6.04it/s]\n"
          ]
        },
        {
          "output_type": "stream",
          "name": "stdout",
          "text": [
            "Epoch 5:\n",
            "Train Loss: 0.2669, Train Acc: 88.60%\n",
            "Val Loss: 0.5747, Val Acc: 89.00%\n"
          ]
        },
        {
          "output_type": "stream",
          "name": "stderr",
          "text": [
            "100%|██████████| 1000/1000 [00:00<00:00, 3917.15it/s]\n",
            "100%|██████████| 200/200 [00:00<00:00, 3009.40it/s]\n",
            "Training: 100%|██████████| 32/32 [00:14<00:00,  2.16it/s]\n",
            "Validating: 100%|██████████| 7/7 [00:01<00:00,  6.16it/s]\n"
          ]
        },
        {
          "output_type": "stream",
          "name": "stdout",
          "text": [
            "Epoch 1:\n",
            "Train Loss: 0.4456, Train Acc: 84.70%\n",
            "Val Loss: 0.4481, Val Acc: 85.00%\n"
          ]
        },
        {
          "output_type": "stream",
          "name": "stderr",
          "text": [
            "Training: 100%|██████████| 32/32 [00:14<00:00,  2.19it/s]\n",
            "Validating: 100%|██████████| 7/7 [00:01<00:00,  5.91it/s]\n"
          ]
        },
        {
          "output_type": "stream",
          "name": "stdout",
          "text": [
            "Epoch 2:\n",
            "Train Loss: 0.3908, Train Acc: 87.00%\n",
            "Val Loss: 0.4313, Val Acc: 85.00%\n"
          ]
        },
        {
          "output_type": "stream",
          "name": "stderr",
          "text": [
            "Training: 100%|██████████| 32/32 [00:14<00:00,  2.25it/s]\n",
            "Validating: 100%|██████████| 7/7 [00:01<00:00,  6.27it/s]\n"
          ]
        },
        {
          "output_type": "stream",
          "name": "stdout",
          "text": [
            "Epoch 3:\n",
            "Train Loss: 0.3901, Train Acc: 87.00%\n",
            "Val Loss: 0.5797, Val Acc: 85.00%\n"
          ]
        },
        {
          "output_type": "stream",
          "name": "stderr",
          "text": [
            "Training: 100%|██████████| 32/32 [00:14<00:00,  2.22it/s]\n",
            "Validating: 100%|██████████| 7/7 [00:01<00:00,  5.05it/s]\n"
          ]
        },
        {
          "output_type": "stream",
          "name": "stdout",
          "text": [
            "Epoch 4:\n",
            "Train Loss: 0.4087, Train Acc: 87.00%\n",
            "Val Loss: 0.4604, Val Acc: 85.00%\n"
          ]
        },
        {
          "output_type": "stream",
          "name": "stderr",
          "text": [
            "Training: 100%|██████████| 32/32 [00:14<00:00,  2.24it/s]\n",
            "Validating: 100%|██████████| 7/7 [00:01<00:00,  6.15it/s]\n"
          ]
        },
        {
          "output_type": "stream",
          "name": "stdout",
          "text": [
            "Epoch 5:\n",
            "Train Loss: 0.3710, Train Acc: 87.00%\n",
            "Val Loss: 0.5099, Val Acc: 85.00%\n"
          ]
        },
        {
          "output_type": "stream",
          "name": "stderr",
          "text": [
            "100%|██████████| 1000/1000 [00:00<00:00, 3849.87it/s]\n",
            "100%|██████████| 200/200 [00:00<00:00, 4204.46it/s]\n",
            "Training: 100%|██████████| 32/32 [00:14<00:00,  2.23it/s]\n",
            "Validating: 100%|██████████| 7/7 [00:01<00:00,  5.16it/s]\n"
          ]
        },
        {
          "output_type": "stream",
          "name": "stdout",
          "text": [
            "Epoch 1:\n",
            "Train Loss: 0.5284, Train Acc: 78.90%\n",
            "Val Loss: 0.5457, Val Acc: 77.50%\n"
          ]
        },
        {
          "output_type": "stream",
          "name": "stderr",
          "text": [
            "Training: 100%|██████████| 32/32 [00:14<00:00,  2.25it/s]\n",
            "Validating: 100%|██████████| 7/7 [00:01<00:00,  6.22it/s]\n"
          ]
        },
        {
          "output_type": "stream",
          "name": "stdout",
          "text": [
            "Epoch 2:\n",
            "Train Loss: 0.4972, Train Acc: 80.10%\n",
            "Val Loss: 0.5883, Val Acc: 77.50%\n"
          ]
        },
        {
          "output_type": "stream",
          "name": "stderr",
          "text": [
            "Training: 100%|██████████| 32/32 [00:14<00:00,  2.22it/s]\n",
            "Validating: 100%|██████████| 7/7 [00:01<00:00,  6.21it/s]\n"
          ]
        },
        {
          "output_type": "stream",
          "name": "stdout",
          "text": [
            "Epoch 3:\n",
            "Train Loss: 0.5016, Train Acc: 80.10%\n",
            "Val Loss: 0.5715, Val Acc: 77.50%\n"
          ]
        },
        {
          "output_type": "stream",
          "name": "stderr",
          "text": [
            "Training: 100%|██████████| 32/32 [00:14<00:00,  2.23it/s]\n",
            "Validating: 100%|██████████| 7/7 [00:01<00:00,  6.27it/s]\n"
          ]
        },
        {
          "output_type": "stream",
          "name": "stdout",
          "text": [
            "Epoch 4:\n",
            "Train Loss: 0.4949, Train Acc: 80.10%\n",
            "Val Loss: 0.5706, Val Acc: 77.50%\n"
          ]
        },
        {
          "output_type": "stream",
          "name": "stderr",
          "text": [
            "Training: 100%|██████████| 32/32 [00:14<00:00,  2.23it/s]\n",
            "Validating: 100%|██████████| 7/7 [00:01<00:00,  4.89it/s]\n"
          ]
        },
        {
          "output_type": "stream",
          "name": "stdout",
          "text": [
            "Epoch 5:\n",
            "Train Loss: 0.4790, Train Acc: 80.10%\n",
            "Val Loss: 0.6419, Val Acc: 77.50%\n"
          ]
        },
        {
          "output_type": "stream",
          "name": "stderr",
          "text": [
            "100%|██████████| 1000/1000 [00:00<00:00, 2452.49it/s]\n",
            "100%|██████████| 200/200 [00:00<00:00, 1738.20it/s]\n",
            "Training: 100%|██████████| 32/32 [00:14<00:00,  2.23it/s]\n",
            "Validating: 100%|██████████| 7/7 [00:01<00:00,  6.05it/s]\n"
          ]
        },
        {
          "output_type": "stream",
          "name": "stdout",
          "text": [
            "Epoch 1:\n",
            "Train Loss: 0.5967, Train Acc: 71.60%\n",
            "Val Loss: 0.5196, Val Acc: 79.00%\n"
          ]
        },
        {
          "output_type": "stream",
          "name": "stderr",
          "text": [
            "Training: 100%|██████████| 32/32 [00:14<00:00,  2.23it/s]\n",
            "Validating: 100%|██████████| 7/7 [00:01<00:00,  6.24it/s]\n"
          ]
        },
        {
          "output_type": "stream",
          "name": "stdout",
          "text": [
            "Epoch 2:\n",
            "Train Loss: 0.5964, Train Acc: 71.80%\n",
            "Val Loss: 0.5918, Val Acc: 79.00%\n"
          ]
        },
        {
          "output_type": "stream",
          "name": "stderr",
          "text": [
            "Training: 100%|██████████| 32/32 [00:14<00:00,  2.24it/s]\n",
            "Validating: 100%|██████████| 7/7 [00:01<00:00,  6.25it/s]\n"
          ]
        },
        {
          "output_type": "stream",
          "name": "stdout",
          "text": [
            "Epoch 3:\n",
            "Train Loss: 0.5708, Train Acc: 71.80%\n",
            "Val Loss: 0.6239, Val Acc: 79.00%\n"
          ]
        },
        {
          "output_type": "stream",
          "name": "stderr",
          "text": [
            "Training: 100%|██████████| 32/32 [00:14<00:00,  2.24it/s]\n",
            "Validating: 100%|██████████| 7/7 [00:01<00:00,  5.69it/s]\n"
          ]
        },
        {
          "output_type": "stream",
          "name": "stdout",
          "text": [
            "Epoch 4:\n",
            "Train Loss: 0.5779, Train Acc: 71.70%\n",
            "Val Loss: 0.5917, Val Acc: 80.00%\n"
          ]
        },
        {
          "output_type": "stream",
          "name": "stderr",
          "text": [
            "Training: 100%|██████████| 32/32 [00:14<00:00,  2.25it/s]\n",
            "Validating: 100%|██████████| 7/7 [00:01<00:00,  6.14it/s]\n"
          ]
        },
        {
          "output_type": "stream",
          "name": "stdout",
          "text": [
            "Epoch 5:\n",
            "Train Loss: 0.5313, Train Acc: 71.10%\n",
            "Val Loss: 1.1803, Val Acc: 80.00%\n"
          ]
        },
        {
          "output_type": "stream",
          "name": "stderr",
          "text": [
            "100%|██████████| 1000/1000 [00:00<00:00, 3682.69it/s]\n",
            "100%|██████████| 200/200 [00:00<00:00, 3852.58it/s]\n",
            "Training: 100%|██████████| 32/32 [00:14<00:00,  2.25it/s]\n",
            "Validating: 100%|██████████| 7/7 [00:01<00:00,  6.24it/s]\n"
          ]
        },
        {
          "output_type": "stream",
          "name": "stdout",
          "text": [
            "Epoch 1:\n",
            "Train Loss: 0.6374, Train Acc: 68.40%\n",
            "Val Loss: 0.6506, Val Acc: 66.00%\n"
          ]
        },
        {
          "output_type": "stream",
          "name": "stderr",
          "text": [
            "Training: 100%|██████████| 32/32 [00:14<00:00,  2.23it/s]\n",
            "Validating: 100%|██████████| 7/7 [00:01<00:00,  6.08it/s]\n"
          ]
        },
        {
          "output_type": "stream",
          "name": "stdout",
          "text": [
            "Epoch 2:\n",
            "Train Loss: 0.6208, Train Acc: 69.00%\n",
            "Val Loss: 0.8381, Val Acc: 66.00%\n"
          ]
        },
        {
          "output_type": "stream",
          "name": "stderr",
          "text": [
            "Training: 100%|██████████| 32/32 [00:14<00:00,  2.21it/s]\n",
            "Validating: 100%|██████████| 7/7 [00:01<00:00,  4.88it/s]\n"
          ]
        },
        {
          "output_type": "stream",
          "name": "stdout",
          "text": [
            "Epoch 3:\n",
            "Train Loss: 0.6319, Train Acc: 69.00%\n",
            "Val Loss: 0.6572, Val Acc: 66.00%\n"
          ]
        },
        {
          "output_type": "stream",
          "name": "stderr",
          "text": [
            "Training: 100%|██████████| 32/32 [00:14<00:00,  2.23it/s]\n",
            "Validating: 100%|██████████| 7/7 [00:01<00:00,  6.20it/s]\n"
          ]
        },
        {
          "output_type": "stream",
          "name": "stdout",
          "text": [
            "Epoch 4:\n",
            "Train Loss: 0.6239, Train Acc: 69.00%\n",
            "Val Loss: 0.6368, Val Acc: 66.00%\n"
          ]
        },
        {
          "output_type": "stream",
          "name": "stderr",
          "text": [
            "Training: 100%|██████████| 32/32 [00:14<00:00,  2.24it/s]\n",
            "Validating: 100%|██████████| 7/7 [00:01<00:00,  6.05it/s]\n"
          ]
        },
        {
          "output_type": "stream",
          "name": "stdout",
          "text": [
            "Epoch 5:\n",
            "Train Loss: 0.6042, Train Acc: 69.00%\n",
            "Val Loss: 0.6797, Val Acc: 66.00%\n"
          ]
        },
        {
          "output_type": "stream",
          "name": "stderr",
          "text": [
            "100%|██████████| 1000/1000 [00:00<00:00, 3864.73it/s]\n",
            "100%|██████████| 200/200 [00:00<00:00, 2707.38it/s]\n",
            "Training: 100%|██████████| 32/32 [00:14<00:00,  2.25it/s]\n",
            "Validating: 100%|██████████| 7/7 [00:01<00:00,  6.26it/s]\n"
          ]
        },
        {
          "output_type": "stream",
          "name": "stdout",
          "text": [
            "Epoch 1:\n",
            "Train Loss: 0.6783, Train Acc: 60.40%\n",
            "Val Loss: 0.6561, Val Acc: 66.50%\n"
          ]
        },
        {
          "output_type": "stream",
          "name": "stderr",
          "text": [
            "Training: 100%|██████████| 32/32 [00:14<00:00,  2.22it/s]\n",
            "Validating: 100%|██████████| 7/7 [00:01<00:00,  5.17it/s]\n"
          ]
        },
        {
          "output_type": "stream",
          "name": "stdout",
          "text": [
            "Epoch 2:\n",
            "Train Loss: 0.6663, Train Acc: 61.60%\n",
            "Val Loss: 0.6720, Val Acc: 66.50%\n"
          ]
        },
        {
          "output_type": "stream",
          "name": "stderr",
          "text": [
            "Training: 100%|██████████| 32/32 [00:14<00:00,  2.24it/s]\n",
            "Validating: 100%|██████████| 7/7 [00:01<00:00,  6.28it/s]\n"
          ]
        },
        {
          "output_type": "stream",
          "name": "stdout",
          "text": [
            "Epoch 3:\n",
            "Train Loss: 0.6652, Train Acc: 61.60%\n",
            "Val Loss: 0.6551, Val Acc: 66.50%\n"
          ]
        },
        {
          "output_type": "stream",
          "name": "stderr",
          "text": [
            "Training: 100%|██████████| 32/32 [00:14<00:00,  2.23it/s]\n",
            "Validating: 100%|██████████| 7/7 [00:01<00:00,  6.24it/s]\n"
          ]
        },
        {
          "output_type": "stream",
          "name": "stdout",
          "text": [
            "Epoch 4:\n",
            "Train Loss: 0.6496, Train Acc: 61.50%\n",
            "Val Loss: 0.6813, Val Acc: 66.50%\n"
          ]
        },
        {
          "output_type": "stream",
          "name": "stderr",
          "text": [
            "Training: 100%|██████████| 32/32 [00:14<00:00,  2.24it/s]\n",
            "Validating: 100%|██████████| 7/7 [00:01<00:00,  6.34it/s]\n"
          ]
        },
        {
          "output_type": "stream",
          "name": "stdout",
          "text": [
            "Epoch 5:\n",
            "Train Loss: 0.6654, Train Acc: 61.80%\n",
            "Val Loss: 0.6587, Val Acc: 66.50%\n"
          ]
        },
        {
          "output_type": "stream",
          "name": "stderr",
          "text": [
            "100%|██████████| 1000/1000 [00:00<00:00, 4010.89it/s]\n",
            "100%|██████████| 200/200 [00:00<00:00, 3862.92it/s]\n",
            "Training: 100%|██████████| 32/32 [00:14<00:00,  2.26it/s]\n",
            "Validating: 100%|██████████| 7/7 [00:01<00:00,  6.16it/s]\n"
          ]
        },
        {
          "output_type": "stream",
          "name": "stdout",
          "text": [
            "Epoch 1:\n",
            "Train Loss: 0.6978, Train Acc: 54.40%\n",
            "Val Loss: 0.6961, Val Acc: 53.00%\n"
          ]
        },
        {
          "output_type": "stream",
          "name": "stderr",
          "text": [
            "Training: 100%|██████████| 32/32 [00:14<00:00,  2.21it/s]\n",
            "Validating: 100%|██████████| 7/7 [00:01<00:00,  5.90it/s]\n"
          ]
        },
        {
          "output_type": "stream",
          "name": "stdout",
          "text": [
            "Epoch 2:\n",
            "Train Loss: 0.6917, Train Acc: 54.50%\n",
            "Val Loss: 0.6904, Val Acc: 51.00%\n"
          ]
        },
        {
          "output_type": "stream",
          "name": "stderr",
          "text": [
            "Training: 100%|██████████| 32/32 [00:14<00:00,  2.22it/s]\n",
            "Validating: 100%|██████████| 7/7 [00:01<00:00,  6.15it/s]\n"
          ]
        },
        {
          "output_type": "stream",
          "name": "stdout",
          "text": [
            "Epoch 3:\n",
            "Train Loss: 0.6850, Train Acc: 56.00%\n",
            "Val Loss: 0.7457, Val Acc: 41.50%\n"
          ]
        },
        {
          "output_type": "stream",
          "name": "stderr",
          "text": [
            "Training: 100%|██████████| 32/32 [00:14<00:00,  2.23it/s]\n",
            "Validating: 100%|██████████| 7/7 [00:01<00:00,  6.25it/s]\n"
          ]
        },
        {
          "output_type": "stream",
          "name": "stdout",
          "text": [
            "Epoch 4:\n",
            "Train Loss: 0.6757, Train Acc: 55.00%\n",
            "Val Loss: 0.7281, Val Acc: 52.00%\n"
          ]
        },
        {
          "output_type": "stream",
          "name": "stderr",
          "text": [
            "Training: 100%|██████████| 32/32 [00:14<00:00,  2.25it/s]\n",
            "Validating: 100%|██████████| 7/7 [00:01<00:00,  6.32it/s]\n"
          ]
        },
        {
          "output_type": "stream",
          "name": "stdout",
          "text": [
            "Epoch 5:\n",
            "Train Loss: 0.6756, Train Acc: 60.80%\n",
            "Val Loss: 0.6925, Val Acc: 53.50%\n"
          ]
        },
        {
          "output_type": "stream",
          "name": "stderr",
          "text": [
            "100%|██████████| 1000/1000 [00:00<00:00, 2264.70it/s]\n",
            "100%|██████████| 200/200 [00:00<00:00, 2615.34it/s]\n",
            "Training: 100%|██████████| 32/32 [00:14<00:00,  2.27it/s]\n",
            "Validating: 100%|██████████| 7/7 [00:01<00:00,  5.73it/s]\n"
          ]
        },
        {
          "output_type": "stream",
          "name": "stdout",
          "text": [
            "Epoch 1:\n",
            "Train Loss: 0.6945, Train Acc: 51.90%\n",
            "Val Loss: 0.6924, Val Acc: 55.50%\n"
          ]
        },
        {
          "output_type": "stream",
          "name": "stderr",
          "text": [
            "Training: 100%|██████████| 32/32 [00:14<00:00,  2.24it/s]\n",
            "Validating: 100%|██████████| 7/7 [00:01<00:00,  6.27it/s]\n"
          ]
        },
        {
          "output_type": "stream",
          "name": "stdout",
          "text": [
            "Epoch 2:\n",
            "Train Loss: 0.6915, Train Acc: 54.60%\n",
            "Val Loss: 0.6983, Val Acc: 56.00%\n"
          ]
        },
        {
          "output_type": "stream",
          "name": "stderr",
          "text": [
            "Training: 100%|██████████| 32/32 [00:14<00:00,  2.23it/s]\n",
            "Validating: 100%|██████████| 7/7 [00:01<00:00,  6.28it/s]\n"
          ]
        },
        {
          "output_type": "stream",
          "name": "stdout",
          "text": [
            "Epoch 3:\n",
            "Train Loss: 0.6848, Train Acc: 56.60%\n",
            "Val Loss: 0.7715, Val Acc: 56.50%\n"
          ]
        },
        {
          "output_type": "stream",
          "name": "stderr",
          "text": [
            "Training: 100%|██████████| 32/32 [00:14<00:00,  2.22it/s]\n",
            "Validating: 100%|██████████| 7/7 [00:01<00:00,  6.37it/s]\n"
          ]
        },
        {
          "output_type": "stream",
          "name": "stdout",
          "text": [
            "Epoch 4:\n",
            "Train Loss: 0.6765, Train Acc: 55.30%\n",
            "Val Loss: 0.7068, Val Acc: 56.00%\n"
          ]
        },
        {
          "output_type": "stream",
          "name": "stderr",
          "text": [
            "Training: 100%|██████████| 32/32 [00:14<00:00,  2.25it/s]\n",
            "Validating: 100%|██████████| 7/7 [00:01<00:00,  6.15it/s]\n"
          ]
        },
        {
          "output_type": "stream",
          "name": "stdout",
          "text": [
            "Epoch 5:\n",
            "Train Loss: 0.6814, Train Acc: 56.80%\n",
            "Val Loss: 0.7372, Val Acc: 53.50%\n"
          ]
        },
        {
          "output_type": "stream",
          "name": "stderr",
          "text": [
            "100%|██████████| 1000/1000 [00:00<00:00, 3771.40it/s]\n",
            "100%|██████████| 200/200 [00:00<00:00, 3916.74it/s]\n",
            "Training: 100%|██████████| 32/32 [00:14<00:00,  2.22it/s]\n",
            "Validating: 100%|██████████| 7/7 [00:01<00:00,  4.94it/s]\n"
          ]
        },
        {
          "output_type": "stream",
          "name": "stdout",
          "text": [
            "Epoch 1:\n",
            "Train Loss: 0.6549, Train Acc: 64.30%\n",
            "Val Loss: 0.6653, Val Acc: 65.00%\n"
          ]
        },
        {
          "output_type": "stream",
          "name": "stderr",
          "text": [
            "Training: 100%|██████████| 32/32 [00:14<00:00,  2.25it/s]\n",
            "Validating: 100%|██████████| 7/7 [00:01<00:00,  6.20it/s]\n"
          ]
        },
        {
          "output_type": "stream",
          "name": "stdout",
          "text": [
            "Epoch 2:\n",
            "Train Loss: 0.6534, Train Acc: 64.50%\n",
            "Val Loss: 0.6440, Val Acc: 65.00%\n"
          ]
        },
        {
          "output_type": "stream",
          "name": "stderr",
          "text": [
            "Training: 100%|██████████| 32/32 [00:14<00:00,  2.24it/s]\n",
            "Validating: 100%|██████████| 7/7 [00:01<00:00,  6.23it/s]\n"
          ]
        },
        {
          "output_type": "stream",
          "name": "stdout",
          "text": [
            "Epoch 3:\n",
            "Train Loss: 0.6519, Train Acc: 64.50%\n",
            "Val Loss: 0.6628, Val Acc: 65.00%\n"
          ]
        },
        {
          "output_type": "stream",
          "name": "stderr",
          "text": [
            "Training: 100%|██████████| 32/32 [00:14<00:00,  2.23it/s]\n",
            "Validating: 100%|██████████| 7/7 [00:01<00:00,  6.29it/s]\n"
          ]
        },
        {
          "output_type": "stream",
          "name": "stdout",
          "text": [
            "Epoch 4:\n",
            "Train Loss: 0.6404, Train Acc: 62.80%\n",
            "Val Loss: 0.6525, Val Acc: 65.00%\n"
          ]
        },
        {
          "output_type": "stream",
          "name": "stderr",
          "text": [
            "Training: 100%|██████████| 32/32 [00:14<00:00,  2.24it/s]\n",
            "Validating: 100%|██████████| 7/7 [00:01<00:00,  4.90it/s]\n"
          ]
        },
        {
          "output_type": "stream",
          "name": "stdout",
          "text": [
            "Epoch 5:\n",
            "Train Loss: 0.6305, Train Acc: 63.80%\n",
            "Val Loss: 0.6891, Val Acc: 65.00%\n"
          ]
        },
        {
          "output_type": "stream",
          "name": "stderr",
          "text": [
            "100%|██████████| 1000/1000 [00:00<00:00, 2130.42it/s]\n",
            "100%|██████████| 200/200 [00:00<00:00, 2801.10it/s]\n",
            "Training: 100%|██████████| 32/32 [00:14<00:00,  2.25it/s]\n",
            "Validating: 100%|██████████| 7/7 [00:01<00:00,  6.26it/s]\n"
          ]
        },
        {
          "output_type": "stream",
          "name": "stdout",
          "text": [
            "Epoch 1:\n",
            "Train Loss: 0.5881, Train Acc: 74.20%\n",
            "Val Loss: 0.5571, Val Acc: 75.00%\n"
          ]
        },
        {
          "output_type": "stream",
          "name": "stderr",
          "text": [
            "Training: 100%|██████████| 32/32 [00:14<00:00,  2.25it/s]\n",
            "Validating: 100%|██████████| 7/7 [00:01<00:00,  6.20it/s]\n"
          ]
        },
        {
          "output_type": "stream",
          "name": "stdout",
          "text": [
            "Epoch 2:\n",
            "Train Loss: 0.5577, Train Acc: 74.50%\n",
            "Val Loss: 0.5636, Val Acc: 75.00%\n"
          ]
        },
        {
          "output_type": "stream",
          "name": "stderr",
          "text": [
            "Training: 100%|██████████| 32/32 [00:14<00:00,  2.23it/s]\n",
            "Validating: 100%|██████████| 7/7 [00:01<00:00,  6.09it/s]\n"
          ]
        },
        {
          "output_type": "stream",
          "name": "stdout",
          "text": [
            "Epoch 3:\n",
            "Train Loss: 0.5547, Train Acc: 74.50%\n",
            "Val Loss: 0.5904, Val Acc: 75.00%\n"
          ]
        },
        {
          "output_type": "stream",
          "name": "stderr",
          "text": [
            "Training: 100%|██████████| 32/32 [00:14<00:00,  2.24it/s]\n",
            "Validating: 100%|██████████| 7/7 [00:01<00:00,  4.94it/s]\n"
          ]
        },
        {
          "output_type": "stream",
          "name": "stdout",
          "text": [
            "Epoch 4:\n",
            "Train Loss: 0.5587, Train Acc: 74.50%\n",
            "Val Loss: 0.6735, Val Acc: 75.00%\n"
          ]
        },
        {
          "output_type": "stream",
          "name": "stderr",
          "text": [
            "Training: 100%|██████████| 32/32 [00:14<00:00,  2.22it/s]\n",
            "Validating: 100%|██████████| 7/7 [00:01<00:00,  6.08it/s]\n"
          ]
        },
        {
          "output_type": "stream",
          "name": "stdout",
          "text": [
            "Epoch 5:\n",
            "Train Loss: 0.5155, Train Acc: 74.50%\n",
            "Val Loss: 0.6032, Val Acc: 75.00%\n"
          ]
        },
        {
          "output_type": "stream",
          "name": "stderr",
          "text": [
            "100%|██████████| 1000/1000 [00:00<00:00, 3882.56it/s]\n",
            "100%|██████████| 200/200 [00:00<00:00, 3814.51it/s]\n",
            "Training: 100%|██████████| 32/32 [00:14<00:00,  2.26it/s]\n",
            "Validating: 100%|██████████| 7/7 [00:01<00:00,  6.05it/s]\n"
          ]
        },
        {
          "output_type": "stream",
          "name": "stdout",
          "text": [
            "Epoch 1:\n",
            "Train Loss: 0.5631, Train Acc: 75.70%\n",
            "Val Loss: 0.5288, Val Acc: 82.00%\n"
          ]
        },
        {
          "output_type": "stream",
          "name": "stderr",
          "text": [
            "Training: 100%|██████████| 32/32 [00:14<00:00,  2.23it/s]\n",
            "Validating: 100%|██████████| 7/7 [00:01<00:00,  6.18it/s]\n"
          ]
        },
        {
          "output_type": "stream",
          "name": "stdout",
          "text": [
            "Epoch 2:\n",
            "Train Loss: 0.5396, Train Acc: 77.10%\n",
            "Val Loss: 0.5033, Val Acc: 82.00%\n"
          ]
        },
        {
          "output_type": "stream",
          "name": "stderr",
          "text": [
            "Training: 100%|██████████| 32/32 [00:14<00:00,  2.21it/s]\n",
            "Validating: 100%|██████████| 7/7 [00:01<00:00,  5.15it/s]\n"
          ]
        },
        {
          "output_type": "stream",
          "name": "stdout",
          "text": [
            "Epoch 3:\n",
            "Train Loss: 0.5437, Train Acc: 77.10%\n",
            "Val Loss: 0.5447, Val Acc: 82.00%\n"
          ]
        },
        {
          "output_type": "stream",
          "name": "stderr",
          "text": [
            "Training: 100%|██████████| 32/32 [00:14<00:00,  2.22it/s]\n",
            "Validating: 100%|██████████| 7/7 [00:01<00:00,  6.23it/s]\n"
          ]
        },
        {
          "output_type": "stream",
          "name": "stdout",
          "text": [
            "Epoch 4:\n",
            "Train Loss: 0.5202, Train Acc: 77.10%\n",
            "Val Loss: 0.5995, Val Acc: 82.00%\n"
          ]
        },
        {
          "output_type": "stream",
          "name": "stderr",
          "text": [
            "Training: 100%|██████████| 32/32 [00:14<00:00,  2.24it/s]\n",
            "Validating: 100%|██████████| 7/7 [00:01<00:00,  6.21it/s]"
          ]
        },
        {
          "output_type": "stream",
          "name": "stdout",
          "text": [
            "Epoch 5:\n",
            "Train Loss: 0.5036, Train Acc: 77.10%\n",
            "Val Loss: 0.5297, Val Acc: 82.00%\n"
          ]
        },
        {
          "output_type": "stream",
          "name": "stderr",
          "text": [
            "\n"
          ]
        }
      ]
    },
    {
      "cell_type": "code",
      "source": [
        "plt.plot(noises, best_acc_shape)\n",
        "plt.xlabel('Noise')\n",
        "plt.ylabel('Accuracy')\n",
        "plt.title(f'Accuracy vs Shape Noise (Max {max(best_acc_shape)}%)')\n",
        "plt.show()"
      ],
      "metadata": {
        "colab": {
          "base_uri": "https://localhost:8080/",
          "height": 472
        },
        "id": "EJuhCg7zXWmr",
        "outputId": "30822bdc-8099-4530-bd91-57e537fd86eb"
      },
      "execution_count": null,
      "outputs": [
        {
          "output_type": "display_data",
          "data": {
            "text/plain": [
              "<Figure size 640x480 with 1 Axes>"
            ],
            "image/png": "[encoded data removed]"
          },
          "metadata": {}
        }
      ]
    },
    {
      "cell_type": "code",
      "source": [
        "noises = [0.01, 0.05, 0.1, 0.2, 0.25, 0.3, 0.4, 0.5, 0.6, 0.7, 0.75]\n",
        "best_acc_color = []\n",
        "def main():\n",
        "  for n in noises:\n",
        "    train_dataset = ShapesDataset(num_samples=1000, transform=transform, split='train', noise=(0.1,0.1,n))\n",
        "    test_dataset = ShapesDataset(num_samples=200, transform=transform, split='test', noise=(0.1,0.1,n))\n",
        "\n",
        "    train_loader = DataLoader(train_dataset, batch_size=32, shuffle=True, num_workers=2)\n",
        "    test_loader = DataLoader(test_dataset, batch_size=32, shuffle=False, num_workers=2)\n",
        "\n",
        "    model = VQAModel(num_classes=2).to(device)\n",
        "    criterion = nn.CrossEntropyLoss()\n",
        "    optimizer = optim.Adam(model.parameters(), lr=0.0001)\n",
        "\n",
        "    best_acc_test = 0\n",
        "    best_acc = 0\n",
        "    for epoch in range(5):\n",
        "        train_loss, train_acc = train_one_epoch(model, train_loader, criterion,\n",
        "                                            optimizer, device)\n",
        "        test_loss, test_acc = validate(model, test_loader, criterion, device)\n",
        "\n",
        "        print(f'Epoch {epoch+1}:')\n",
        "        print(f'Train Loss: {train_loss:.4f}, Train Acc: {train_acc:.2f}%')\n",
        "        print(f'Val Loss: {test_loss:.4f}, Val Acc: {test_acc:.2f}%')\n",
        "\n",
        "        if test_acc > best_acc_test:\n",
        "            best_acc_test = test_acc\n",
        "\n",
        "        if test_acc > best_acc:\n",
        "            best_acc = test_acc\n",
        "            torch.save(model.state_dict(), 'best_color_model_by_noise.pth')\n",
        "\n",
        "    best_acc_color.append(best_acc_test)\n",
        "\n",
        "\n",
        "if __name__ == '__main__':\n",
        "  main()"
      ],
      "metadata": {
        "colab": {
          "base_uri": "https://localhost:8080/"
        },
        "id": "jWu-OW5zIh86",
        "outputId": "f8909a54-ecc7-4c1a-a7be-4e4197f21369",
        "collapsed": true
      },
      "execution_count": null,
      "outputs": [
        {
          "output_type": "stream",
          "name": "stderr",
          "text": [
            "100%|██████████| 1000/1000 [00:00<00:00, 4220.17it/s]\n",
            "100%|██████████| 200/200 [00:00<00:00, 3923.34it/s]\n",
            "Training: 100%|██████████| 32/32 [00:14<00:00,  2.24it/s]\n",
            "Validating: 100%|██████████| 7/7 [00:01<00:00,  6.32it/s]\n"
          ]
        },
        {
          "output_type": "stream",
          "name": "stdout",
          "text": [
            "Epoch 1:\n",
            "Train Loss: 0.3703, Train Acc: 88.80%\n",
            "Val Loss: 0.3186, Val Acc: 90.00%\n"
          ]
        },
        {
          "output_type": "stream",
          "name": "stderr",
          "text": [
            "Training: 100%|██████████| 32/32 [00:14<00:00,  2.22it/s]\n",
            "Validating: 100%|██████████| 7/7 [00:01<00:00,  4.88it/s]\n"
          ]
        },
        {
          "output_type": "stream",
          "name": "stdout",
          "text": [
            "Epoch 2:\n",
            "Train Loss: 0.3191, Train Acc: 90.50%\n",
            "Val Loss: 0.3117, Val Acc: 90.00%\n"
          ]
        },
        {
          "output_type": "stream",
          "name": "stderr",
          "text": [
            "Training: 100%|██████████| 32/32 [00:14<00:00,  2.22it/s]\n",
            "Validating: 100%|██████████| 7/7 [00:01<00:00,  6.17it/s]\n"
          ]
        },
        {
          "output_type": "stream",
          "name": "stdout",
          "text": [
            "Epoch 3:\n",
            "Train Loss: 0.2977, Train Acc: 90.50%\n",
            "Val Loss: 0.3309, Val Acc: 90.00%\n"
          ]
        },
        {
          "output_type": "stream",
          "name": "stderr",
          "text": [
            "Training: 100%|██████████| 32/32 [00:14<00:00,  2.24it/s]\n",
            "Validating: 100%|██████████| 7/7 [00:01<00:00,  6.23it/s]\n"
          ]
        },
        {
          "output_type": "stream",
          "name": "stdout",
          "text": [
            "Epoch 4:\n",
            "Train Loss: 0.2868, Train Acc: 90.50%\n",
            "Val Loss: 0.3690, Val Acc: 90.00%\n"
          ]
        },
        {
          "output_type": "stream",
          "name": "stderr",
          "text": [
            "Training: 100%|██████████| 32/32 [00:14<00:00,  2.23it/s]\n",
            "Validating: 100%|██████████| 7/7 [00:01<00:00,  6.23it/s]\n"
          ]
        },
        {
          "output_type": "stream",
          "name": "stdout",
          "text": [
            "Epoch 5:\n",
            "Train Loss: 0.2904, Train Acc: 90.50%\n",
            "Val Loss: 0.3775, Val Acc: 90.00%\n"
          ]
        },
        {
          "output_type": "stream",
          "name": "stderr",
          "text": [
            "100%|██████████| 1000/1000 [00:00<00:00, 4104.64it/s]\n",
            "100%|██████████| 200/200 [00:00<00:00, 3259.40it/s]\n",
            "Training: 100%|██████████| 32/32 [00:14<00:00,  2.25it/s]\n",
            "Validating: 100%|██████████| 7/7 [00:01<00:00,  6.19it/s]\n"
          ]
        },
        {
          "output_type": "stream",
          "name": "stdout",
          "text": [
            "Epoch 1:\n",
            "Train Loss: 0.4457, Train Acc: 83.30%\n",
            "Val Loss: 0.4533, Val Acc: 86.50%\n"
          ]
        },
        {
          "output_type": "stream",
          "name": "stderr",
          "text": [
            "Training: 100%|██████████| 32/32 [00:14<00:00,  2.26it/s]\n",
            "Validating: 100%|██████████| 7/7 [00:01<00:00,  6.26it/s]\n"
          ]
        },
        {
          "output_type": "stream",
          "name": "stdout",
          "text": [
            "Epoch 2:\n",
            "Train Loss: 0.4033, Train Acc: 85.90%\n",
            "Val Loss: 0.4784, Val Acc: 86.50%\n"
          ]
        },
        {
          "output_type": "stream",
          "name": "stderr",
          "text": [
            "Training: 100%|██████████| 32/32 [00:14<00:00,  2.22it/s]\n",
            "Validating: 100%|██████████| 7/7 [00:01<00:00,  6.01it/s]\n"
          ]
        },
        {
          "output_type": "stream",
          "name": "stdout",
          "text": [
            "Epoch 3:\n",
            "Train Loss: 0.3934, Train Acc: 85.90%\n",
            "Val Loss: 0.4768, Val Acc: 86.50%\n"
          ]
        },
        {
          "output_type": "stream",
          "name": "stderr",
          "text": [
            "Training: 100%|██████████| 32/32 [00:14<00:00,  2.23it/s]\n",
            "Validating: 100%|██████████| 7/7 [00:01<00:00,  6.00it/s]\n"
          ]
        },
        {
          "output_type": "stream",
          "name": "stdout",
          "text": [
            "Epoch 4:\n",
            "Train Loss: 0.3647, Train Acc: 85.90%\n",
            "Val Loss: 0.5893, Val Acc: 86.50%\n"
          ]
        },
        {
          "output_type": "stream",
          "name": "stderr",
          "text": [
            "Training: 100%|██████████| 32/32 [00:14<00:00,  2.24it/s]\n",
            "Validating: 100%|██████████| 7/7 [00:01<00:00,  5.67it/s]\n"
          ]
        },
        {
          "output_type": "stream",
          "name": "stdout",
          "text": [
            "Epoch 5:\n",
            "Train Loss: 0.3656, Train Acc: 85.90%\n",
            "Val Loss: 0.5565, Val Acc: 86.50%\n"
          ]
        },
        {
          "output_type": "stream",
          "name": "stderr",
          "text": [
            "100%|██████████| 1000/1000 [00:00<00:00, 2667.28it/s]\n",
            "100%|██████████| 200/200 [00:00<00:00, 1900.79it/s]\n",
            "Training: 100%|██████████| 32/32 [00:14<00:00,  2.25it/s]\n",
            "Validating: 100%|██████████| 7/7 [00:01<00:00,  6.25it/s]\n"
          ]
        },
        {
          "output_type": "stream",
          "name": "stdout",
          "text": [
            "Epoch 1:\n",
            "Train Loss: 0.5212, Train Acc: 81.40%\n",
            "Val Loss: 0.5599, Val Acc: 75.50%\n"
          ]
        },
        {
          "output_type": "stream",
          "name": "stderr",
          "text": [
            "Training: 100%|██████████| 32/32 [00:14<00:00,  2.24it/s]\n",
            "Validating: 100%|██████████| 7/7 [00:01<00:00,  6.20it/s]\n"
          ]
        },
        {
          "output_type": "stream",
          "name": "stdout",
          "text": [
            "Epoch 2:\n",
            "Train Loss: 0.4890, Train Acc: 81.40%\n",
            "Val Loss: 0.5844, Val Acc: 75.50%\n"
          ]
        },
        {
          "output_type": "stream",
          "name": "stderr",
          "text": [
            "Training: 100%|██████████| 32/32 [00:14<00:00,  2.23it/s]\n",
            "Validating: 100%|██████████| 7/7 [00:01<00:00,  5.69it/s]\n"
          ]
        },
        {
          "output_type": "stream",
          "name": "stdout",
          "text": [
            "Epoch 3:\n",
            "Train Loss: 0.4706, Train Acc: 81.40%\n",
            "Val Loss: 0.6273, Val Acc: 75.50%\n"
          ]
        },
        {
          "output_type": "stream",
          "name": "stderr",
          "text": [
            "Training: 100%|██████████| 32/32 [00:14<00:00,  2.19it/s]\n",
            "Validating: 100%|██████████| 7/7 [00:01<00:00,  5.84it/s]\n"
          ]
        },
        {
          "output_type": "stream",
          "name": "stdout",
          "text": [
            "Epoch 4:\n",
            "Train Loss: 0.4741, Train Acc: 81.40%\n",
            "Val Loss: 0.5996, Val Acc: 75.50%\n"
          ]
        },
        {
          "output_type": "stream",
          "name": "stderr",
          "text": [
            "Training: 100%|██████████| 32/32 [00:14<00:00,  2.25it/s]\n",
            "Validating: 100%|██████████| 7/7 [00:01<00:00,  6.27it/s]\n"
          ]
        },
        {
          "output_type": "stream",
          "name": "stdout",
          "text": [
            "Epoch 5:\n",
            "Train Loss: 0.4532, Train Acc: 81.40%\n",
            "Val Loss: 0.6502, Val Acc: 75.50%\n"
          ]
        },
        {
          "output_type": "stream",
          "name": "stderr",
          "text": [
            "100%|██████████| 1000/1000 [00:00<00:00, 3700.08it/s]\n",
            "100%|██████████| 200/200 [00:00<00:00, 2725.49it/s]\n",
            "Training: 100%|██████████| 32/32 [00:14<00:00,  2.26it/s]\n",
            "Validating: 100%|██████████| 7/7 [00:01<00:00,  6.26it/s]\n"
          ]
        },
        {
          "output_type": "stream",
          "name": "stdout",
          "text": [
            "Epoch 1:\n",
            "Train Loss: 0.6224, Train Acc: 70.60%\n",
            "Val Loss: 0.5842, Val Acc: 70.50%\n"
          ]
        },
        {
          "output_type": "stream",
          "name": "stderr",
          "text": [
            "Training: 100%|██████████| 32/32 [00:14<00:00,  2.22it/s]\n",
            "Validating: 100%|██████████| 7/7 [00:01<00:00,  5.06it/s]\n"
          ]
        },
        {
          "output_type": "stream",
          "name": "stdout",
          "text": [
            "Epoch 2:\n",
            "Train Loss: 0.6101, Train Acc: 71.90%\n",
            "Val Loss: 0.5897, Val Acc: 70.50%\n"
          ]
        },
        {
          "output_type": "stream",
          "name": "stderr",
          "text": [
            "Training: 100%|██████████| 32/32 [00:14<00:00,  2.21it/s]\n",
            "Validating: 100%|██████████| 7/7 [00:01<00:00,  6.14it/s]\n"
          ]
        },
        {
          "output_type": "stream",
          "name": "stdout",
          "text": [
            "Epoch 3:\n",
            "Train Loss: 0.5912, Train Acc: 71.90%\n",
            "Val Loss: 0.5849, Val Acc: 70.50%\n"
          ]
        },
        {
          "output_type": "stream",
          "name": "stderr",
          "text": [
            "Training: 100%|██████████| 32/32 [00:14<00:00,  2.24it/s]\n",
            "Validating: 100%|██████████| 7/7 [00:01<00:00,  6.31it/s]\n"
          ]
        },
        {
          "output_type": "stream",
          "name": "stdout",
          "text": [
            "Epoch 4:\n",
            "Train Loss: 0.5787, Train Acc: 71.90%\n",
            "Val Loss: 0.6155, Val Acc: 70.50%\n"
          ]
        },
        {
          "output_type": "stream",
          "name": "stderr",
          "text": [
            "Training: 100%|██████████| 32/32 [00:14<00:00,  2.25it/s]\n",
            "Validating: 100%|██████████| 7/7 [00:01<00:00,  6.26it/s]\n"
          ]
        },
        {
          "output_type": "stream",
          "name": "stdout",
          "text": [
            "Epoch 5:\n",
            "Train Loss: 0.5715, Train Acc: 71.90%\n",
            "Val Loss: 0.6239, Val Acc: 70.50%\n"
          ]
        },
        {
          "output_type": "stream",
          "name": "stderr",
          "text": [
            "100%|██████████| 1000/1000 [00:00<00:00, 4050.30it/s]\n",
            "100%|██████████| 200/200 [00:00<00:00, 3960.96it/s]\n",
            "Training: 100%|██████████| 32/32 [00:14<00:00,  2.24it/s]\n",
            "Validating: 100%|██████████| 7/7 [00:01<00:00,  5.50it/s]\n"
          ]
        },
        {
          "output_type": "stream",
          "name": "stdout",
          "text": [
            "Epoch 1:\n",
            "Train Loss: 0.6414, Train Acc: 66.90%\n",
            "Val Loss: 0.5953, Val Acc: 74.00%\n"
          ]
        },
        {
          "output_type": "stream",
          "name": "stderr",
          "text": [
            "Training: 100%|██████████| 32/32 [00:14<00:00,  2.23it/s]\n",
            "Validating: 100%|██████████| 7/7 [00:01<00:00,  6.26it/s]\n"
          ]
        },
        {
          "output_type": "stream",
          "name": "stdout",
          "text": [
            "Epoch 2:\n",
            "Train Loss: 0.6237, Train Acc: 66.90%\n",
            "Val Loss: 0.7001, Val Acc: 74.00%\n"
          ]
        },
        {
          "output_type": "stream",
          "name": "stderr",
          "text": [
            "Training: 100%|██████████| 32/32 [00:14<00:00,  2.24it/s]\n",
            "Validating: 100%|██████████| 7/7 [00:01<00:00,  6.18it/s]\n"
          ]
        },
        {
          "output_type": "stream",
          "name": "stdout",
          "text": [
            "Epoch 3:\n",
            "Train Loss: 0.6356, Train Acc: 66.80%\n",
            "Val Loss: 0.6571, Val Acc: 60.50%\n"
          ]
        },
        {
          "output_type": "stream",
          "name": "stderr",
          "text": [
            "Training: 100%|██████████| 32/32 [00:14<00:00,  2.22it/s]\n",
            "Validating: 100%|██████████| 7/7 [00:01<00:00,  6.24it/s]\n"
          ]
        },
        {
          "output_type": "stream",
          "name": "stdout",
          "text": [
            "Epoch 4:\n",
            "Train Loss: 0.6269, Train Acc: 66.30%\n",
            "Val Loss: 0.6016, Val Acc: 74.00%\n"
          ]
        },
        {
          "output_type": "stream",
          "name": "stderr",
          "text": [
            "Training: 100%|██████████| 32/32 [00:14<00:00,  2.25it/s]\n",
            "Validating: 100%|██████████| 7/7 [00:01<00:00,  6.17it/s]\n"
          ]
        },
        {
          "output_type": "stream",
          "name": "stdout",
          "text": [
            "Epoch 5:\n",
            "Train Loss: 0.6112, Train Acc: 67.60%\n",
            "Val Loss: 0.6163, Val Acc: 71.50%\n"
          ]
        },
        {
          "output_type": "stream",
          "name": "stderr",
          "text": [
            "100%|██████████| 1000/1000 [00:00<00:00, 4129.61it/s]\n",
            "100%|██████████| 200/200 [00:00<00:00, 3924.81it/s]\n",
            "Training: 100%|██████████| 32/32 [00:14<00:00,  2.21it/s]\n",
            "Validating: 100%|██████████| 7/7 [00:01<00:00,  5.09it/s]\n"
          ]
        },
        {
          "output_type": "stream",
          "name": "stdout",
          "text": [
            "Epoch 1:\n",
            "Train Loss: 0.6675, Train Acc: 63.10%\n",
            "Val Loss: 0.6375, Val Acc: 70.50%\n"
          ]
        },
        {
          "output_type": "stream",
          "name": "stderr",
          "text": [
            "Training: 100%|██████████| 32/32 [00:14<00:00,  2.24it/s]\n",
            "Validating: 100%|██████████| 7/7 [00:01<00:00,  6.09it/s]\n"
          ]
        },
        {
          "output_type": "stream",
          "name": "stdout",
          "text": [
            "Epoch 2:\n",
            "Train Loss: 0.6535, Train Acc: 63.20%\n",
            "Val Loss: 0.6565, Val Acc: 70.50%\n"
          ]
        },
        {
          "output_type": "stream",
          "name": "stderr",
          "text": [
            "Training: 100%|██████████| 32/32 [00:14<00:00,  2.24it/s]\n",
            "Validating: 100%|██████████| 7/7 [00:01<00:00,  6.09it/s]\n"
          ]
        },
        {
          "output_type": "stream",
          "name": "stdout",
          "text": [
            "Epoch 3:\n",
            "Train Loss: 0.6471, Train Acc: 63.10%\n",
            "Val Loss: 0.6901, Val Acc: 70.50%\n"
          ]
        },
        {
          "output_type": "stream",
          "name": "stderr",
          "text": [
            "Training: 100%|██████████| 32/32 [00:14<00:00,  2.24it/s]\n",
            "Validating: 100%|██████████| 7/7 [00:01<00:00,  6.06it/s]\n"
          ]
        },
        {
          "output_type": "stream",
          "name": "stdout",
          "text": [
            "Epoch 4:\n",
            "Train Loss: 0.6516, Train Acc: 61.00%\n",
            "Val Loss: 0.6557, Val Acc: 70.50%\n"
          ]
        },
        {
          "output_type": "stream",
          "name": "stderr",
          "text": [
            "Training: 100%|██████████| 32/32 [00:14<00:00,  2.24it/s]\n",
            "Validating: 100%|██████████| 7/7 [00:01<00:00,  5.93it/s]\n"
          ]
        },
        {
          "output_type": "stream",
          "name": "stdout",
          "text": [
            "Epoch 5:\n",
            "Train Loss: 0.6363, Train Acc: 62.50%\n",
            "Val Loss: 0.6484, Val Acc: 70.50%\n"
          ]
        },
        {
          "output_type": "stream",
          "name": "stderr",
          "text": [
            "100%|██████████| 1000/1000 [00:00<00:00, 2689.05it/s]\n",
            "100%|██████████| 200/200 [00:00<00:00, 2696.07it/s]\n",
            "Training: 100%|██████████| 32/32 [00:14<00:00,  2.24it/s]\n",
            "Validating: 100%|██████████| 7/7 [00:01<00:00,  6.05it/s]\n"
          ]
        },
        {
          "output_type": "stream",
          "name": "stdout",
          "text": [
            "Epoch 1:\n",
            "Train Loss: 0.6990, Train Acc: 50.90%\n",
            "Val Loss: 0.6986, Val Acc: 44.50%\n"
          ]
        },
        {
          "output_type": "stream",
          "name": "stderr",
          "text": [
            "Training: 100%|██████████| 32/32 [00:14<00:00,  2.25it/s]\n",
            "Validating: 100%|██████████| 7/7 [00:01<00:00,  6.17it/s]\n"
          ]
        },
        {
          "output_type": "stream",
          "name": "stdout",
          "text": [
            "Epoch 2:\n",
            "Train Loss: 0.6817, Train Acc: 56.90%\n",
            "Val Loss: 0.6905, Val Acc: 56.00%\n"
          ]
        },
        {
          "output_type": "stream",
          "name": "stderr",
          "text": [
            "Training: 100%|██████████| 32/32 [00:14<00:00,  2.21it/s]\n",
            "Validating: 100%|██████████| 7/7 [00:01<00:00,  4.94it/s]\n"
          ]
        },
        {
          "output_type": "stream",
          "name": "stdout",
          "text": [
            "Epoch 3:\n",
            "Train Loss: 0.6883, Train Acc: 55.80%\n",
            "Val Loss: 0.7693, Val Acc: 52.50%\n"
          ]
        },
        {
          "output_type": "stream",
          "name": "stderr",
          "text": [
            "Training: 100%|██████████| 32/32 [00:14<00:00,  2.23it/s]\n",
            "Validating: 100%|██████████| 7/7 [00:01<00:00,  6.21it/s]\n"
          ]
        },
        {
          "output_type": "stream",
          "name": "stdout",
          "text": [
            "Epoch 4:\n",
            "Train Loss: 0.6887, Train Acc: 54.60%\n",
            "Val Loss: 0.6807, Val Acc: 58.50%\n"
          ]
        },
        {
          "output_type": "stream",
          "name": "stderr",
          "text": [
            "Training: 100%|██████████| 32/32 [00:14<00:00,  2.26it/s]\n",
            "Validating: 100%|██████████| 7/7 [00:01<00:00,  6.18it/s]\n"
          ]
        },
        {
          "output_type": "stream",
          "name": "stdout",
          "text": [
            "Epoch 5:\n",
            "Train Loss: 0.6818, Train Acc: 56.50%\n",
            "Val Loss: 0.6572, Val Acc: 61.50%\n"
          ]
        },
        {
          "output_type": "stream",
          "name": "stderr",
          "text": [
            "100%|██████████| 1000/1000 [00:00<00:00, 3584.83it/s]\n",
            "100%|██████████| 200/200 [00:00<00:00, 4307.42it/s]\n",
            "Training: 100%|██████████| 32/32 [00:14<00:00,  2.23it/s]\n",
            "Validating: 100%|██████████| 7/7 [00:01<00:00,  5.11it/s]\n"
          ]
        },
        {
          "output_type": "stream",
          "name": "stdout",
          "text": [
            "Epoch 1:\n",
            "Train Loss: 0.6942, Train Acc: 54.80%\n",
            "Val Loss: 0.7001, Val Acc: 44.50%\n"
          ]
        },
        {
          "output_type": "stream",
          "name": "stderr",
          "text": [
            "Training: 100%|██████████| 32/32 [00:14<00:00,  2.24it/s]\n",
            "Validating: 100%|██████████| 7/7 [00:01<00:00,  6.18it/s]\n"
          ]
        },
        {
          "output_type": "stream",
          "name": "stdout",
          "text": [
            "Epoch 2:\n",
            "Train Loss: 0.6901, Train Acc: 52.60%\n",
            "Val Loss: 0.6994, Val Acc: 50.00%\n"
          ]
        },
        {
          "output_type": "stream",
          "name": "stderr",
          "text": [
            "Training: 100%|██████████| 32/32 [00:14<00:00,  2.22it/s]\n",
            "Validating: 100%|██████████| 7/7 [00:01<00:00,  6.23it/s]\n"
          ]
        },
        {
          "output_type": "stream",
          "name": "stdout",
          "text": [
            "Epoch 3:\n",
            "Train Loss: 0.6843, Train Acc: 53.70%\n",
            "Val Loss: 0.7871, Val Acc: 47.00%\n"
          ]
        },
        {
          "output_type": "stream",
          "name": "stderr",
          "text": [
            "Training: 100%|██████████| 32/32 [00:14<00:00,  2.25it/s]\n",
            "Validating: 100%|██████████| 7/7 [00:01<00:00,  6.14it/s]\n"
          ]
        },
        {
          "output_type": "stream",
          "name": "stdout",
          "text": [
            "Epoch 4:\n",
            "Train Loss: 0.6783, Train Acc: 56.30%\n",
            "Val Loss: 0.7198, Val Acc: 48.00%\n"
          ]
        },
        {
          "output_type": "stream",
          "name": "stderr",
          "text": [
            "Training: 100%|██████████| 32/32 [00:14<00:00,  2.22it/s]\n",
            "Validating: 100%|██████████| 7/7 [00:01<00:00,  5.28it/s]\n"
          ]
        },
        {
          "output_type": "stream",
          "name": "stdout",
          "text": [
            "Epoch 5:\n",
            "Train Loss: 0.6713, Train Acc: 57.30%\n",
            "Val Loss: 0.7447, Val Acc: 47.00%\n"
          ]
        },
        {
          "output_type": "stream",
          "name": "stderr",
          "text": [
            "100%|██████████| 1000/1000 [00:00<00:00, 3150.54it/s]\n",
            "100%|██████████| 200/200 [00:00<00:00, 3716.34it/s]\n",
            "Training: 100%|██████████| 32/32 [00:14<00:00,  2.22it/s]\n",
            "Validating: 100%|██████████| 7/7 [00:01<00:00,  6.35it/s]\n"
          ]
        },
        {
          "output_type": "stream",
          "name": "stdout",
          "text": [
            "Epoch 1:\n",
            "Train Loss: 0.6478, Train Acc: 67.10%\n",
            "Val Loss: 0.6929, Val Acc: 62.00%\n"
          ]
        },
        {
          "output_type": "stream",
          "name": "stderr",
          "text": [
            "Training: 100%|██████████| 32/32 [00:14<00:00,  2.23it/s]\n",
            "Validating: 100%|██████████| 7/7 [00:01<00:00,  6.22it/s]\n"
          ]
        },
        {
          "output_type": "stream",
          "name": "stdout",
          "text": [
            "Epoch 2:\n",
            "Train Loss: 0.6265, Train Acc: 67.10%\n",
            "Val Loss: 0.6967, Val Acc: 62.00%\n"
          ]
        },
        {
          "output_type": "stream",
          "name": "stderr",
          "text": [
            "Training: 100%|██████████| 32/32 [00:14<00:00,  2.24it/s]\n",
            "Validating: 100%|██████████| 7/7 [00:01<00:00,  6.29it/s]\n"
          ]
        },
        {
          "output_type": "stream",
          "name": "stdout",
          "text": [
            "Epoch 3:\n",
            "Train Loss: 0.6265, Train Acc: 67.10%\n",
            "Val Loss: 0.6913, Val Acc: 62.00%\n"
          ]
        },
        {
          "output_type": "stream",
          "name": "stderr",
          "text": [
            "Training: 100%|██████████| 32/32 [00:14<00:00,  2.24it/s]\n",
            "Validating: 100%|██████████| 7/7 [00:01<00:00,  5.67it/s]\n"
          ]
        },
        {
          "output_type": "stream",
          "name": "stdout",
          "text": [
            "Epoch 4:\n",
            "Train Loss: 0.6263, Train Acc: 67.10%\n",
            "Val Loss: 0.6724, Val Acc: 62.00%\n"
          ]
        },
        {
          "output_type": "stream",
          "name": "stderr",
          "text": [
            "Training: 100%|██████████| 32/32 [00:14<00:00,  2.22it/s]\n",
            "Validating: 100%|██████████| 7/7 [00:01<00:00,  5.59it/s]\n"
          ]
        },
        {
          "output_type": "stream",
          "name": "stdout",
          "text": [
            "Epoch 5:\n",
            "Train Loss: 0.5956, Train Acc: 67.10%\n",
            "Val Loss: 0.7212, Val Acc: 62.00%\n"
          ]
        },
        {
          "output_type": "stream",
          "name": "stderr",
          "text": [
            "100%|██████████| 1000/1000 [00:00<00:00, 3780.30it/s]\n",
            "100%|██████████| 200/200 [00:00<00:00, 3855.61it/s]\n",
            "Training: 100%|██████████| 32/32 [00:14<00:00,  2.25it/s]\n",
            "Validating: 100%|██████████| 7/7 [00:01<00:00,  6.14it/s]\n"
          ]
        },
        {
          "output_type": "stream",
          "name": "stdout",
          "text": [
            "Epoch 1:\n",
            "Train Loss: 0.6136, Train Acc: 72.30%\n",
            "Val Loss: 0.5602, Val Acc: 73.50%\n"
          ]
        },
        {
          "output_type": "stream",
          "name": "stderr",
          "text": [
            "Training: 100%|██████████| 32/32 [00:14<00:00,  2.23it/s]\n",
            "Validating: 100%|██████████| 7/7 [00:01<00:00,  6.33it/s]\n"
          ]
        },
        {
          "output_type": "stream",
          "name": "stdout",
          "text": [
            "Epoch 2:\n",
            "Train Loss: 0.5915, Train Acc: 72.90%\n",
            "Val Loss: 0.5929, Val Acc: 73.50%\n"
          ]
        },
        {
          "output_type": "stream",
          "name": "stderr",
          "text": [
            "Training: 100%|██████████| 32/32 [00:14<00:00,  2.25it/s]\n",
            "Validating: 100%|██████████| 7/7 [00:01<00:00,  5.49it/s]\n"
          ]
        },
        {
          "output_type": "stream",
          "name": "stdout",
          "text": [
            "Epoch 3:\n",
            "Train Loss: 0.5903, Train Acc: 72.90%\n",
            "Val Loss: 0.5923, Val Acc: 73.50%\n"
          ]
        },
        {
          "output_type": "stream",
          "name": "stderr",
          "text": [
            "Training: 100%|██████████| 32/32 [00:14<00:00,  2.22it/s]\n",
            "Validating: 100%|██████████| 7/7 [00:01<00:00,  5.57it/s]\n"
          ]
        },
        {
          "output_type": "stream",
          "name": "stdout",
          "text": [
            "Epoch 4:\n",
            "Train Loss: 0.5703, Train Acc: 72.90%\n",
            "Val Loss: 0.5686, Val Acc: 73.50%\n"
          ]
        },
        {
          "output_type": "stream",
          "name": "stderr",
          "text": [
            "Training: 100%|██████████| 32/32 [00:14<00:00,  2.24it/s]\n",
            "Validating: 100%|██████████| 7/7 [00:01<00:00,  6.30it/s]\n"
          ]
        },
        {
          "output_type": "stream",
          "name": "stdout",
          "text": [
            "Epoch 5:\n",
            "Train Loss: 0.5667, Train Acc: 72.90%\n",
            "Val Loss: 0.6295, Val Acc: 73.50%\n"
          ]
        },
        {
          "output_type": "stream",
          "name": "stderr",
          "text": [
            "100%|██████████| 1000/1000 [00:00<00:00, 3583.90it/s]\n",
            "100%|██████████| 200/200 [00:00<00:00, 3923.78it/s]\n",
            "Training: 100%|██████████| 32/32 [00:14<00:00,  2.22it/s]\n",
            "Validating: 100%|██████████| 7/7 [00:01<00:00,  6.16it/s]\n"
          ]
        },
        {
          "output_type": "stream",
          "name": "stdout",
          "text": [
            "Epoch 1:\n",
            "Train Loss: 0.5853, Train Acc: 74.40%\n",
            "Val Loss: 0.6157, Val Acc: 73.00%\n"
          ]
        },
        {
          "output_type": "stream",
          "name": "stderr",
          "text": [
            "Training: 100%|██████████| 32/32 [00:14<00:00,  2.24it/s]\n",
            "Validating: 100%|██████████| 7/7 [00:01<00:00,  5.09it/s]\n"
          ]
        },
        {
          "output_type": "stream",
          "name": "stdout",
          "text": [
            "Epoch 2:\n",
            "Train Loss: 0.5653, Train Acc: 75.00%\n",
            "Val Loss: 0.6248, Val Acc: 73.00%\n"
          ]
        },
        {
          "output_type": "stream",
          "name": "stderr",
          "text": [
            "Training: 100%|██████████| 32/32 [00:14<00:00,  2.23it/s]\n",
            "Validating: 100%|██████████| 7/7 [00:01<00:00,  5.98it/s]\n"
          ]
        },
        {
          "output_type": "stream",
          "name": "stdout",
          "text": [
            "Epoch 3:\n",
            "Train Loss: 0.5584, Train Acc: 75.00%\n",
            "Val Loss: 0.6188, Val Acc: 73.00%\n"
          ]
        },
        {
          "output_type": "stream",
          "name": "stderr",
          "text": [
            "Training: 100%|██████████| 32/32 [00:14<00:00,  2.24it/s]\n",
            "Validating: 100%|██████████| 7/7 [00:01<00:00,  6.31it/s]\n"
          ]
        },
        {
          "output_type": "stream",
          "name": "stdout",
          "text": [
            "Epoch 4:\n",
            "Train Loss: 0.5575, Train Acc: 75.00%\n",
            "Val Loss: 0.6736, Val Acc: 73.00%\n"
          ]
        },
        {
          "output_type": "stream",
          "name": "stderr",
          "text": [
            "Training: 100%|██████████| 32/32 [00:14<00:00,  2.26it/s]\n",
            "Validating: 100%|██████████| 7/7 [00:01<00:00,  6.17it/s]"
          ]
        },
        {
          "output_type": "stream",
          "name": "stdout",
          "text": [
            "Epoch 5:\n",
            "Train Loss: 0.5450, Train Acc: 75.00%\n",
            "Val Loss: 0.6594, Val Acc: 73.00%\n"
          ]
        },
        {
          "output_type": "stream",
          "name": "stderr",
          "text": [
            "\n"
          ]
        }
      ]
    },
    {
      "cell_type": "code",
      "source": [
        "plt.plot(noises, best_acc_color)\n",
        "plt.xlabel('Noise')\n",
        "plt.ylabel('Accuracy')\n",
        "plt.title(f'Accuracy vs Color Noise (Max {max(best_acc_color)}%)')\n",
        "plt.show()"
      ],
      "metadata": {
        "colab": {
          "base_uri": "https://localhost:8080/",
          "height": 472
        },
        "id": "XUaeitIgXZoK",
        "outputId": "ef03ee3c-61a3-489e-a799-656573880ff1"
      },
      "execution_count": null,
      "outputs": [
        {
          "output_type": "display_data",
          "data": {
            "text/plain": [
              "<Figure size 640x480 with 1 Axes>"
            ],
            "image/png": "[encoded data removed]"
          },
          "metadata": {}
        }
      ]
    },
    {
      "cell_type": "code",
      "source": [
        "best_acc_overall = []\n",
        "def main():\n",
        "    train_dataset = ShapesDataset(num_samples=1000, transform=transform, split='train', noise=(0.25,0.01,0.01))\n",
        "    test_dataset = ShapesDataset(num_samples=200, transform=transform, split='test', noise=(0.25, 0.01, 0.01))\n",
        "\n",
        "    train_loader = DataLoader(train_dataset, batch_size=32, shuffle=True, num_workers=2)\n",
        "    test_loader = DataLoader(test_dataset, batch_size=32, shuffle=False, num_workers=2)\n",
        "\n",
        "    model = VQAModel(num_classes=2).to(device)\n",
        "    criterion = nn.CrossEntropyLoss()\n",
        "    optimizer = optim.Adam(model.parameters(), lr=0.0001)\n",
        "\n",
        "    best_acc = 0\n",
        "    for epoch in range(10):\n",
        "        train_loss, train_acc = train_one_epoch(model, train_loader, criterion,\n",
        "                                            optimizer, device)\n",
        "        test_loss, test_acc = validate(model, test_loader, criterion, device)\n",
        "\n",
        "        print(f'Epoch {epoch+1}:')\n",
        "        print(f'Train Loss: {train_loss:.4f}, Train Acc: {train_acc:.2f}%')\n",
        "        print(f'Val Loss: {test_loss:.4f}, Test Acc: {test_acc:.2f}%')\n",
        "\n",
        "        if test_acc > best_acc:\n",
        "            best_acc = test_acc\n",
        "            torch.save(model.state_dict(), 'best_overall.pth')\n",
        "\n",
        "        best_acc_overall.append(test_acc)\n",
        "\n",
        "\n",
        "if __name__ == '__main__':\n",
        "  main()"
      ],
      "metadata": {
        "colab": {
          "base_uri": "https://localhost:8080/"
        },
        "id": "iLhI5bPGf0to",
        "outputId": "4391259d-4fc3-4a54-e266-f31210862b21",
        "collapsed": true
      },
      "execution_count": null,
      "outputs": [
        {
          "output_type": "stream",
          "name": "stderr",
          "text": [
            "100%|██████████| 1000/1000 [00:00<00:00, 1745.13it/s]\n",
            "100%|██████████| 200/200 [00:00<00:00, 1845.62it/s]\n",
            "/usr/local/lib/python3.10/dist-packages/torchvision/models/_utils.py:208: UserWarning: The parameter 'pretrained' is deprecated since 0.13 and may be removed in the future, please use 'weights' instead.\n",
            "  warnings.warn(\n",
            "/usr/local/lib/python3.10/dist-packages/torchvision/models/_utils.py:223: UserWarning: Arguments other than a weight enum or `None` for 'weights' are deprecated since 0.13 and may be removed in the future. The current behavior is equivalent to passing `weights=ResNet50_Weights.IMAGENET1K_V1`. You can also use `weights=ResNet50_Weights.DEFAULT` to get the most up-to-date weights.\n",
            "  warnings.warn(msg)\n",
            "Training: 100%|██████████| 32/32 [00:14<00:00,  2.22it/s]\n",
            "Validating: 100%|██████████| 7/7 [00:01<00:00,  6.14it/s]\n"
          ]
        },
        {
          "output_type": "stream",
          "name": "stdout",
          "text": [
            "Epoch 1:\n",
            "Train Loss: 0.1628, Train Acc: 95.80%\n",
            "Val Loss: 0.1827, Test Acc: 96.50%\n"
          ]
        },
        {
          "output_type": "stream",
          "name": "stderr",
          "text": [
            "Training: 100%|██████████| 32/32 [00:14<00:00,  2.26it/s]\n",
            "Validating: 100%|██████████| 7/7 [00:01<00:00,  6.16it/s]\n"
          ]
        },
        {
          "output_type": "stream",
          "name": "stdout",
          "text": [
            "Epoch 2:\n",
            "Train Loss: 0.0871, Train Acc: 98.40%\n",
            "Val Loss: 0.2345, Test Acc: 96.50%\n"
          ]
        },
        {
          "output_type": "stream",
          "name": "stderr",
          "text": [
            "Training: 100%|██████████| 32/32 [00:14<00:00,  2.25it/s]\n",
            "Validating: 100%|██████████| 7/7 [00:01<00:00,  6.11it/s]\n"
          ]
        },
        {
          "output_type": "stream",
          "name": "stdout",
          "text": [
            "Epoch 3:\n",
            "Train Loss: 0.0623, Train Acc: 98.40%\n",
            "Val Loss: 0.2618, Test Acc: 96.50%\n"
          ]
        },
        {
          "output_type": "stream",
          "name": "stderr",
          "text": [
            "Training: 100%|██████████| 32/32 [00:15<00:00,  2.12it/s]\n",
            "Validating: 100%|██████████| 7/7 [00:01<00:00,  6.24it/s]\n"
          ]
        },
        {
          "output_type": "stream",
          "name": "stdout",
          "text": [
            "Epoch 4:\n",
            "Train Loss: 0.0475, Train Acc: 98.40%\n",
            "Val Loss: 0.3935, Test Acc: 96.50%\n"
          ]
        },
        {
          "output_type": "stream",
          "name": "stderr",
          "text": [
            "Training: 100%|██████████| 32/32 [00:14<00:00,  2.23it/s]\n",
            "Validating: 100%|██████████| 7/7 [00:01<00:00,  5.07it/s]\n"
          ]
        },
        {
          "output_type": "stream",
          "name": "stdout",
          "text": [
            "Epoch 5:\n",
            "Train Loss: 0.0532, Train Acc: 98.50%\n",
            "Val Loss: 0.3077, Test Acc: 96.50%\n"
          ]
        },
        {
          "output_type": "stream",
          "name": "stderr",
          "text": [
            "Training: 100%|██████████| 32/32 [00:14<00:00,  2.21it/s]\n",
            "Validating: 100%|██████████| 7/7 [00:01<00:00,  6.18it/s]\n"
          ]
        },
        {
          "output_type": "stream",
          "name": "stdout",
          "text": [
            "Epoch 6:\n",
            "Train Loss: 0.0468, Train Acc: 98.80%\n",
            "Val Loss: 0.3977, Test Acc: 96.50%\n"
          ]
        },
        {
          "output_type": "stream",
          "name": "stderr",
          "text": [
            "Training: 100%|██████████| 32/32 [00:14<00:00,  2.25it/s]\n",
            "Validating: 100%|██████████| 7/7 [00:01<00:00,  6.25it/s]\n"
          ]
        },
        {
          "output_type": "stream",
          "name": "stdout",
          "text": [
            "Epoch 7:\n",
            "Train Loss: 0.0510, Train Acc: 98.80%\n",
            "Val Loss: 0.3094, Test Acc: 96.50%\n"
          ]
        },
        {
          "output_type": "stream",
          "name": "stderr",
          "text": [
            "Training: 100%|██████████| 32/32 [00:14<00:00,  2.24it/s]\n",
            "Validating: 100%|██████████| 7/7 [00:01<00:00,  6.22it/s]\n"
          ]
        },
        {
          "output_type": "stream",
          "name": "stdout",
          "text": [
            "Epoch 8:\n",
            "Train Loss: 0.0423, Train Acc: 98.80%\n",
            "Val Loss: 0.4615, Test Acc: 96.50%\n"
          ]
        },
        {
          "output_type": "stream",
          "name": "stderr",
          "text": [
            "Training: 100%|██████████| 32/32 [00:14<00:00,  2.24it/s]\n",
            "Validating: 100%|██████████| 7/7 [00:01<00:00,  6.23it/s]\n"
          ]
        },
        {
          "output_type": "stream",
          "name": "stdout",
          "text": [
            "Epoch 9:\n",
            "Train Loss: 0.0448, Train Acc: 98.70%\n",
            "Val Loss: 0.3959, Test Acc: 96.50%\n"
          ]
        },
        {
          "output_type": "stream",
          "name": "stderr",
          "text": [
            "Training: 100%|██████████| 32/32 [00:14<00:00,  2.24it/s]\n",
            "Validating: 100%|██████████| 7/7 [00:01<00:00,  4.82it/s]"
          ]
        },
        {
          "output_type": "stream",
          "name": "stdout",
          "text": [
            "Epoch 10:\n",
            "Train Loss: 0.0212, Train Acc: 99.40%\n",
            "Val Loss: 0.6697, Test Acc: 95.50%\n"
          ]
        },
        {
          "output_type": "stream",
          "name": "stderr",
          "text": [
            "\n"
          ]
        }
      ]
    },
    {
      "cell_type": "code",
      "source": [
        "print(max(best_acc_overall))"
      ],
      "metadata": {
        "colab": {
          "base_uri": "https://localhost:8080/"
        },
        "id": "FoRY-rnJg7GF",
        "outputId": "7dee5fe8-a244-40ed-d2a9-e3d6a54062d4"
      },
      "execution_count": null,
      "outputs": [
        {
          "output_type": "stream",
          "name": "stdout",
          "text": [
            "96.5\n"
          ]
        }
      ]
    },
    {
      "cell_type": "code",
      "source": [
        "plt.plot(best_acc_overall)\n",
        "plt.title(\"Best noise parameters\")\n",
        "plt.xlabel(\"Epochs\")\n",
        "plt.ylabel(\"Accuracy\")\n",
        "plt.show()"
      ],
      "metadata": {
        "colab": {
          "base_uri": "https://localhost:8080/",
          "height": 472
        },
        "id": "6TYaLKkbh7PJ",
        "outputId": "48a036a5-6c29-4f36-809a-f175e0e5b431"
      },
      "execution_count": null,
      "outputs": [
        {
          "output_type": "display_data",
          "data": {
            "text/plain": [
              "<Figure size 640x480 with 1 Axes>"
            ],
            "image/png": "[encoded data removed]"
          },
          "metadata": {}
        }
      ]
    },
    {
      "cell_type": "code",
      "source": [],
      "metadata": {
        "id": "1nhykmuriDmw"
      },
      "execution_count": null,
      "outputs": []
    }
  ]
}